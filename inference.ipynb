{
 "cells": [
  {
   "cell_type": "code",
   "execution_count": 22,
   "id": "quarterly-savannah",
   "metadata": {},
   "outputs": [],
   "source": [
    "import os\n",
    "import numpy as np\n",
    "import pandas as pd\n",
    "from PIL import Image\n",
    "import torch\n",
    "import torch.nn as nn\n",
    "from nnAudio.Spectrogram import CQT1992v2\n",
    "from torch.utils.data import DataLoader, Dataset\n",
    "import timm\n",
    "import albumentations as A\n",
    "from albumentations.pytorch import ToTensorV2\n",
    "from pathlib import Path\n",
    "from sklearn.model_selection import StratifiedKFold\n",
    "from sklearn import metrics\n",
    "from torch.optim.lr_scheduler import ReduceLROnPlateau\n",
    "from tqdm import tqdm\n",
    "BS = 64"
   ]
  },
  {
   "cell_type": "code",
   "execution_count": 23,
   "id": "federal-visit",
   "metadata": {},
   "outputs": [],
   "source": [
    "BS = 64\n",
    "FOLD = 0\n",
    "qtransform_params={\"sr\": 2048, \"fmin\": 20, \"fmax\": 1024, \"hop_length\": 32, \"bins_per_octave\": 8}\n",
    "INPUT_PATH = Path(\"/home/trytolose/rinat/kaggle/g2net/input\")"
   ]
  },
  {
   "cell_type": "code",
   "execution_count": 24,
   "id": "reduced-least",
   "metadata": {},
   "outputs": [],
   "source": [
    "class TrainDataset(Dataset):\n",
    "    def __init__(self, df, transform=None, steps_per_epoch=150, mode='train'):\n",
    "        self.df = df\n",
    "        self.file_names = df['path'].values\n",
    "        self.wave_transform = CQT1992v2(**qtransform_params)\n",
    "        self.transform = transform\n",
    "        self.steps_per_epoch = steps_per_epoch*BS\n",
    "        self.mode = mode\n",
    "\n",
    "        \n",
    "    def __len__(self):\n",
    "        if self.mode=='train':\n",
    "            return self.steps_per_epoch\n",
    "        else:\n",
    "            return len(self.df)\n",
    "\n",
    "    def __getitem__(self, idx):\n",
    "        file_path = self.file_names[idx]\n",
    "        waves = np.load(file_path)\n",
    "        waves = np.hstack(waves)\n",
    "        waves = waves / np.max(waves)\n",
    "        return waves"
   ]
  },
  {
   "cell_type": "code",
   "execution_count": 25,
   "id": "german-assessment",
   "metadata": {},
   "outputs": [],
   "source": [
    "class CustomModel(nn.Module):\n",
    "    def __init__(self, pretrained=True):\n",
    "        super().__init__()\n",
    "        self.model = timm.create_model(\"efficientnet_b0\", pretrained=pretrained, in_chans=1)\n",
    "        self.n_features = self.model.classifier.in_features\n",
    "        self.model.classifier = nn.Linear(self.n_features, 1)\n",
    "        self.cqt = CQT1992v2(**qtransform_params) #qtransform_params={\"sr\": 2048, \"fmin\": 20, \"fmax\": 1024, \"hop_length\": 32, \"bins_per_octave\": 8}\n",
    "\n",
    "    def forward(self, x):\n",
    "        x = self.cqt(x).unsqueeze(1)\n",
    "        x = nn.functional.interpolate(x, (256, 386))\n",
    "        output = self.model(x)\n",
    "        return output"
   ]
  },
  {
   "cell_type": "code",
   "execution_count": 26,
   "id": "seeing-jackson",
   "metadata": {},
   "outputs": [],
   "source": [
    "df = pd.read_csv(INPUT_PATH / \"sample_submission.csv\")\n",
    "\n",
    "files = list((INPUT_PATH / \"test\").rglob(\"*.npy\"))\n",
    "FILE_PATH_DICT = {x.stem: str(x) for x in files}\n",
    "df[\"path\"] = df[\"id\"].apply(lambda x: FILE_PATH_DICT[x])"
   ]
  },
  {
   "cell_type": "code",
   "execution_count": 27,
   "id": "handmade-traffic",
   "metadata": {},
   "outputs": [
    {
     "name": "stdout",
     "output_type": "stream",
     "text": [
      "total 38032\n",
      "-rw-rw-r-- 1 trytolose trytolose 17079787 Aug 16 23:14 baseline_f0.pt\n",
      "-rw-rw-r-- 1 trytolose trytolose 17079787 Aug 17 20:42 baseline_f0_part_epoch.pt\n",
      "-rw-rw-r-- 1 trytolose trytolose     6901 Aug 17 12:10 inference.ipynb\n",
      "-rw-rw-r-- 1 trytolose trytolose     5556 Aug 17 18:20 main.py\n",
      "drwxrwxr-x 2 trytolose trytolose     4096 Aug 16 17:23 src\n",
      "-rw-rw-r-- 1 trytolose trytolose  4760185 Aug 17 12:09 submission.csv\n"
     ]
    }
   ],
   "source": [
    "!ls -l"
   ]
  },
  {
   "cell_type": "code",
   "execution_count": 28,
   "id": "greek-brake",
   "metadata": {},
   "outputs": [
    {
     "name": "stderr",
     "output_type": "stream",
     "text": [
      "/home/trytolose/miniconda3/envs/audio/lib/python3.8/site-packages/nnAudio/utils.py:326: SyntaxWarning: If fmax is given, n_bins will be ignored\n",
      "  warnings.warn('If fmax is given, n_bins will be ignored',SyntaxWarning)\n",
      "  0%|                    | 0/1766 [00:00<?, ?it/s]"
     ]
    },
    {
     "name": "stdout",
     "output_type": "stream",
     "text": [
      "CQT kernels created, time used = 0.0169 seconds\n",
      "CQT kernels created, time used = 0.0050 seconds\n"
     ]
    },
    {
     "name": "stderr",
     "output_type": "stream",
     "text": [
      "100%|█████████| 1766/1766 [02:36<00:00, 11.27it/s]\n"
     ]
    }
   ],
   "source": [
    "val_ds = TrainDataset(df, mode=\"val\")\n",
    "\n",
    "val_loader = DataLoader(\n",
    "    val_ds, shuffle=False, num_workers=12, batch_size=BS*2, pin_memory=False\n",
    ")\n",
    "\n",
    "model = CustomModel(pretrained=False)\n",
    "model.cuda()\n",
    "model.load_state_dict(torch.load(\"baseline_f0_part_epoch.pt\"))\n",
    "\n",
    "val_pred = []\n",
    "model.eval()\n",
    "with torch.no_grad():\n",
    "    for x in tqdm(val_loader, ncols=50):\n",
    "        x = x.cuda().float().unsqueeze(1)\n",
    "        pred = model(x)\n",
    "        pred = pred.sigmoid().cpu().data.numpy()\n",
    "        val_pred.append(pred)\n",
    "\n",
    "\n",
    "    val_pred = np.concatenate(val_pred).reshape(-1,)"
   ]
  },
  {
   "cell_type": "code",
   "execution_count": 29,
   "id": "medical-coalition",
   "metadata": {},
   "outputs": [
    {
     "data": {
      "text/plain": [
       "array([1.        , 0.97921145, 0.33347988, ..., 0.24788715, 0.999997  ,\n",
       "       0.07999594], dtype=float32)"
      ]
     },
     "execution_count": 29,
     "metadata": {},
     "output_type": "execute_result"
    }
   ],
   "source": [
    "val_pred"
   ]
  },
  {
   "cell_type": "code",
   "execution_count": 30,
   "id": "emerging-knife",
   "metadata": {},
   "outputs": [],
   "source": [
    "df['target'] = val_pred"
   ]
  },
  {
   "cell_type": "code",
   "execution_count": 31,
   "id": "according-suspect",
   "metadata": {},
   "outputs": [],
   "source": [
    "df = df.drop(\"path\", axis=1)"
   ]
  },
  {
   "cell_type": "code",
   "execution_count": 32,
   "id": "searching-ethiopia",
   "metadata": {},
   "outputs": [],
   "source": [
    "df.to_csv(\"submission.csv\", index=False)"
   ]
  },
  {
   "cell_type": "code",
   "execution_count": 33,
   "id": "assisted-harris",
   "metadata": {},
   "outputs": [
    {
     "name": "stdout",
     "output_type": "stream",
     "text": [
      "100%|███████████████████████████████████████| 4.57M/4.57M [00:07<00:00, 669kB/s]\n",
      "Successfully submitted to G2Net Gravitational Wave Detection"
     ]
    }
   ],
   "source": [
    "!kaggle competitions submit -c g2net-gravitational-wave-detection -f submission.csv -m \"public baseline\""
   ]
  },
  {
   "cell_type": "code",
   "execution_count": null,
   "id": "municipal-mason",
   "metadata": {},
   "outputs": [],
   "source": []
  }
 ],
 "metadata": {
  "kernelspec": {
   "display_name": "Python 3",
   "language": "python",
   "name": "python3"
  },
  "language_info": {
   "codemirror_mode": {
    "name": "ipython",
    "version": 3
   },
   "file_extension": ".py",
   "mimetype": "text/x-python",
   "name": "python",
   "nbconvert_exporter": "python",
   "pygments_lexer": "ipython3",
   "version": "3.8.5"
  }
 },
 "nbformat": 4,
 "nbformat_minor": 5
}
