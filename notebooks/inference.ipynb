{
 "cells": [
  {
   "cell_type": "code",
   "execution_count": 1,
   "id": "infrared-topic",
   "metadata": {},
   "outputs": [],
   "source": [
    "import os\n",
    "import numpy as np\n",
    "import pandas as pd\n",
    "from PIL import Image\n",
    "import torch\n",
    "import torch.nn as nn\n",
    "from nnAudio.Spectrogram import CQT1992v2\n",
    "from torch.utils.data import DataLoader, Dataset\n",
    "import timm\n",
    "import albumentations as A\n",
    "from albumentations.pytorch import ToTensorV2\n",
    "from pathlib import Path\n",
    "from sklearn.model_selection import StratifiedKFold\n",
    "from sklearn import metrics\n",
    "from torch.optim.lr_scheduler import ReduceLROnPlateau\n",
    "from tqdm import tqdm\n",
    "from functools import partial"
   ]
  },
  {
   "cell_type": "code",
   "execution_count": 2,
   "id": "pointed-scoop",
   "metadata": {},
   "outputs": [],
   "source": [
    "import sys\n",
    "sys.path.insert(0, \"../\")\n",
    "from src.model import CustomModel_v1, Andrewnet_v3_true\n",
    "from src.dataset import TrainDataset\n",
    "from src.transforms import stack_bandpass_transform, stack_bandpass_turkey_transform, stack_turkey"
   ]
  },
  {
   "cell_type": "code",
   "execution_count": 3,
   "id": "preliminary-captain",
   "metadata": {},
   "outputs": [],
   "source": [
    "INPUT_PATH = Path(\"/home/trytolose/rinat/kaggle/grav_waves_detection/input\")"
   ]
  },
  {
   "cell_type": "code",
   "execution_count": 4,
   "id": "lyric-wesley",
   "metadata": {},
   "outputs": [],
   "source": [
    "import torch\n",
    "import torch.nn as nn\n",
    "import timm\n",
    "\n",
    "class CustomModel_v1(nn.Module):\n",
    "    def __init__(self, cfg, pretrained=False):\n",
    "        super().__init__()\n",
    "        self.model = timm.create_model(\"efficientnet_b0\", pretrained=pretrained, in_chans=3, num_classes=1)\n",
    "        self.cqt = CQT1992v2(**cfg.qtransform_params)\n",
    "        self.h, self.w = 256, 256\n",
    "\n",
    "    def forward(self, x):\n",
    "        bs, ch, sig_len = x.shape\n",
    "        x = x.view(-1, sig_len)\n",
    "        x = self.cqt(x).unsqueeze(1)\n",
    "        x = nn.functional.interpolate(x, (self.h, self.w))\n",
    "        _, _, h, w = x.shape\n",
    "        x = x.view(bs, 3, h, w)\n",
    "        output = self.model(x)\n",
    "        return output\n"
   ]
  },
  {
   "cell_type": "code",
   "execution_count": 5,
   "id": "studied-collar",
   "metadata": {},
   "outputs": [],
   "source": [
    "class CFG:\n",
    "    def __init__(self):\n",
    "        self.qtransform_params = {\n",
    "            'sr': 2048,\n",
    "            'fmin': 20,\n",
    "            'fmax': 1024,\n",
    "            'hop_length': 32,\n",
    "            'bins_per_octave': 8,\n",
    "        }\n",
    "\n",
    "        self.bandpass_param = {\n",
    "          'lf': 30,\n",
    "          'hf': 400,\n",
    "          'order': 8, \n",
    "          'sr': 2048,\n",
    "        }\n",
    "cfg = CFG()"
   ]
  },
  {
   "cell_type": "code",
   "execution_count": 6,
   "id": "extensive-people",
   "metadata": {},
   "outputs": [],
   "source": [
    "df = pd.read_csv(INPUT_PATH / \"sample_submission.csv\")\n",
    "\n",
    "files = list((INPUT_PATH / \"test\").rglob(\"*.npy\"))\n",
    "FILE_PATH_DICT = {x.stem: str(x) for x in files}\n",
    "df[\"path\"] = df[\"id\"].apply(lambda x: FILE_PATH_DICT[x])"
   ]
  },
  {
   "cell_type": "code",
   "execution_count": 7,
   "id": "sustainable-inflation",
   "metadata": {},
   "outputs": [
    {
     "name": "stdout",
     "output_type": "stream",
     "text": [
      "total 695368\n",
      "-rw-rw-r-- 1 trytolose trytolose   2560697 Aug 28 18:11 wavenet_fold_0_w.pt\n",
      "-rw-rw-r-- 1 trytolose trytolose  17082923 Aug 28 13:00 cos_bandpass_minmax_fold_0_w.pt\n",
      "-rw-rw-r-- 1 trytolose trytolose  16697067 Aug 28 10:39 stack_turkey_q_fold_0_w.pt\n",
      "-rw-rw-r-- 1 trytolose trytolose  16697067 Aug 28 10:39 stack_bandpass_turkey_transform_q_fold_4_w.pt\n",
      "-rw-rw-r-- 1 trytolose trytolose  16697067 Aug 28 10:39 stack_bandpass_turkey_transform_q_fold_3_w.pt\n",
      "-rw-rw-r-- 1 trytolose trytolose  16697067 Aug 28 10:39 stack_bandpass_turkey_transform_q_fold_2_w.pt\n",
      "-rw-rw-r-- 1 trytolose trytolose  16697067 Aug 28 10:39 stack_bandpass_turkey_transform_q_fold_1_w.pt\n",
      "-rw-rw-r-- 1 trytolose trytolose  16697067 Aug 28 10:39 stack_bandpass_turkey_transform_q_fold_0_w.pt\n",
      "-rw-rw-r-- 1 trytolose trytolose  16327345 Aug 28 10:39 stack_bandpass_turkey_transform_cwt_fold_0_w.pt\n",
      "-rw-rw-r-- 1 trytolose trytolose  16697067 Aug 28 10:39 stack_bandpass_transform_q_fold_0_w.pt\n",
      "-rw-rw-r-- 1 trytolose trytolose  17082923 Aug 28 10:39 min_max_check_fold_4_w.pt\n",
      "-rw-rw-r-- 1 trytolose trytolose  17082923 Aug 28 10:39 min_max_check_fold_3_w.pt\n",
      "-rw-rw-r-- 1 trytolose trytolose  17082923 Aug 28 10:39 min_max_check_fold_2_w.pt\n",
      "-rw-rw-r-- 1 trytolose trytolose  17082923 Aug 28 10:39 min_max_check_fold_1_w.pt\n",
      "-rw-rw-r-- 1 trytolose trytolose  17082923 Aug 28 10:39 min_max_check_fold_0_w.pt\n",
      "-rw-rw-r-- 1 trytolose trytolose 362016291 Aug 28 10:38 default_stack_pos_w_fold_0_w.pt\n",
      "-rw-rw-r-- 1 trytolose trytolose  15126081 Aug 28 10:38 default_stack_512_fold_0_w.pt\n",
      "-rw-rw-r-- 1 trytolose trytolose  15126081 Aug 28 10:38 default_ch_2_fold_0_w.pt\n",
      "-rw-rw-r-- 1 trytolose trytolose  15126081 Aug 28 10:38 default_ch_1_fold_0_w.pt\n",
      "-rw-rw-r-- 1 trytolose trytolose  15126081 Aug 28 10:38 default_ch_0_fold_0_w.pt\n",
      "-rw-rw-r-- 1 trytolose trytolose  17082923 Aug 28 10:38 cos_check_fold_0_w.pt\n",
      "-rw-rw-r-- 1 trytolose trytolose  17079787 Aug 28 10:38 baseline_f0.pt\n",
      "-rw-rw-r-- 1 trytolose trytolose  17065707 Aug 28 10:38 baseline_f0_part_epoch.pt\n"
     ]
    }
   ],
   "source": [
    "!ls -lt ../weights"
   ]
  },
  {
   "cell_type": "code",
   "execution_count": 8,
   "id": "incoming-longitude",
   "metadata": {},
   "outputs": [
    {
     "name": "stderr",
     "output_type": "stream",
     "text": [
      "100%|█████████| 1766/1766 [03:42<00:00,  7.95it/s]\n"
     ]
    }
   ],
   "source": [
    "# model = CustomModel_v1(cfg).cuda()\n",
    "model = Andrewnet_v3_true().cuda()\n",
    "transform_f = partial(stack_bandpass_transform, params=cfg.bandpass_param)\n",
    "val_ds = TrainDataset(\n",
    "    df,\n",
    "    mode=\"test\",\n",
    "    transform=transform_f,\n",
    ")\n",
    "val_loader = DataLoader(val_ds, shuffle=False, num_workers=12, batch_size=128, pin_memory=False)\n",
    "total_predicts = []\n",
    "for f in range(1):\n",
    "#     model.load_state_dict(torch.load(f\"../weights/cos_bandpass_minmax_fold_{f}_w.pt\"))\n",
    "    model.load_state_dict(torch.load(f\"../weights/wavenet_fold_{f}_w.pt\"))\n",
    "    val_pred = []\n",
    "    model.eval()\n",
    "    with torch.no_grad():\n",
    "        for x in tqdm(val_loader, ncols=50, leave=True):\n",
    "            x = x.cuda().float()\n",
    "            pred = model(x)\n",
    "            pred = pred.sigmoid().cpu().data.numpy()\n",
    "            val_pred.append(pred)\n",
    "            \n",
    "    val_pred = np.concatenate(val_pred).reshape(-1,)\n",
    "    total_predicts.append(val_pred)"
   ]
  },
  {
   "cell_type": "code",
   "execution_count": 9,
   "id": "bound-liability",
   "metadata": {},
   "outputs": [],
   "source": [
    "total_predicts = np.stack(total_predicts)"
   ]
  },
  {
   "cell_type": "code",
   "execution_count": 10,
   "id": "challenging-worship",
   "metadata": {},
   "outputs": [
    {
     "data": {
      "text/plain": [
       "(1, 226000)"
      ]
     },
     "execution_count": 10,
     "metadata": {},
     "output_type": "execute_result"
    }
   ],
   "source": [
    "total_predicts.shape"
   ]
  },
  {
   "cell_type": "code",
   "execution_count": 11,
   "id": "incredible-baltimore",
   "metadata": {},
   "outputs": [],
   "source": [
    "df['target'] = total_predicts[0] #.mean(axis=0)"
   ]
  },
  {
   "cell_type": "code",
   "execution_count": 12,
   "id": "insured-christian",
   "metadata": {},
   "outputs": [],
   "source": [
    "df = df.drop(\"path\", axis=1)"
   ]
  },
  {
   "cell_type": "code",
   "execution_count": 13,
   "id": "unnecessary-fiber",
   "metadata": {},
   "outputs": [
    {
     "data": {
      "text/html": [
       "<div>\n",
       "<style scoped>\n",
       "    .dataframe tbody tr th:only-of-type {\n",
       "        vertical-align: middle;\n",
       "    }\n",
       "\n",
       "    .dataframe tbody tr th {\n",
       "        vertical-align: top;\n",
       "    }\n",
       "\n",
       "    .dataframe thead th {\n",
       "        text-align: right;\n",
       "    }\n",
       "</style>\n",
       "<table border=\"1\" class=\"dataframe\">\n",
       "  <thead>\n",
       "    <tr style=\"text-align: right;\">\n",
       "      <th></th>\n",
       "      <th>id</th>\n",
       "      <th>target</th>\n",
       "    </tr>\n",
       "  </thead>\n",
       "  <tbody>\n",
       "    <tr>\n",
       "      <th>0</th>\n",
       "      <td>00005bced6</td>\n",
       "      <td>0.999062</td>\n",
       "    </tr>\n",
       "    <tr>\n",
       "      <th>1</th>\n",
       "      <td>0000806717</td>\n",
       "      <td>0.959905</td>\n",
       "    </tr>\n",
       "    <tr>\n",
       "      <th>2</th>\n",
       "      <td>0000ef4fe1</td>\n",
       "      <td>0.253698</td>\n",
       "    </tr>\n",
       "    <tr>\n",
       "      <th>3</th>\n",
       "      <td>00020de251</td>\n",
       "      <td>0.404031</td>\n",
       "    </tr>\n",
       "    <tr>\n",
       "      <th>4</th>\n",
       "      <td>00024887b5</td>\n",
       "      <td>0.196941</td>\n",
       "    </tr>\n",
       "    <tr>\n",
       "      <th>...</th>\n",
       "      <td>...</td>\n",
       "      <td>...</td>\n",
       "    </tr>\n",
       "    <tr>\n",
       "      <th>225995</th>\n",
       "      <td>ffff4125f1</td>\n",
       "      <td>0.409374</td>\n",
       "    </tr>\n",
       "    <tr>\n",
       "      <th>225996</th>\n",
       "      <td>ffff9d32a6</td>\n",
       "      <td>0.440559</td>\n",
       "    </tr>\n",
       "    <tr>\n",
       "      <th>225997</th>\n",
       "      <td>ffff9f4c1f</td>\n",
       "      <td>0.260817</td>\n",
       "    </tr>\n",
       "    <tr>\n",
       "      <th>225998</th>\n",
       "      <td>ffffa19693</td>\n",
       "      <td>0.999905</td>\n",
       "    </tr>\n",
       "    <tr>\n",
       "      <th>225999</th>\n",
       "      <td>ffffebbfe2</td>\n",
       "      <td>0.136768</td>\n",
       "    </tr>\n",
       "  </tbody>\n",
       "</table>\n",
       "<p>226000 rows × 2 columns</p>\n",
       "</div>"
      ],
      "text/plain": [
       "                id    target\n",
       "0       00005bced6  0.999062\n",
       "1       0000806717  0.959905\n",
       "2       0000ef4fe1  0.253698\n",
       "3       00020de251  0.404031\n",
       "4       00024887b5  0.196941\n",
       "...            ...       ...\n",
       "225995  ffff4125f1  0.409374\n",
       "225996  ffff9d32a6  0.440559\n",
       "225997  ffff9f4c1f  0.260817\n",
       "225998  ffffa19693  0.999905\n",
       "225999  ffffebbfe2  0.136768\n",
       "\n",
       "[226000 rows x 2 columns]"
      ]
     },
     "execution_count": 13,
     "metadata": {},
     "output_type": "execute_result"
    }
   ],
   "source": [
    "df"
   ]
  },
  {
   "cell_type": "code",
   "execution_count": 14,
   "id": "homeless-witch",
   "metadata": {},
   "outputs": [],
   "source": [
    "df.to_csv(\"submission_wave.csv\", index=False)"
   ]
  },
  {
   "cell_type": "code",
   "execution_count": 16,
   "id": "sonic-conditions",
   "metadata": {},
   "outputs": [],
   "source": [
    "df_cnn = pd.read_csv(\"submission.csv\")"
   ]
  },
  {
   "cell_type": "code",
   "execution_count": 20,
   "id": "organic-telescope",
   "metadata": {},
   "outputs": [],
   "source": [
    "df_blend = df.copy()"
   ]
  },
  {
   "cell_type": "code",
   "execution_count": 25,
   "id": "standing-advocacy",
   "metadata": {},
   "outputs": [],
   "source": [
    "df_blend['target'] = 0.3* df['target'] + 0.7*df_cnn['target']\n",
    "df_blend.to_csv(\"submission_blend.csv\", index=False)"
   ]
  },
  {
   "cell_type": "code",
   "execution_count": 26,
   "id": "brazilian-alarm",
   "metadata": {},
   "outputs": [
    {
     "name": "stdout",
     "output_type": "stream",
     "text": [
      "100%|██████████████████████████████████████| 6.53M/6.53M [00:05<00:00, 1.17MB/s]\n",
      "Successfully submitted to G2Net Gravitational Wave Detection"
     ]
    }
   ],
   "source": [
    "!kaggle competitions submit -c g2net-gravitational-wave-detection -f submission_blend.csv -m \"3ch bandpass minmax wavenet effnet blend 0.4 0.6 fold#0\""
   ]
  },
  {
   "cell_type": "code",
   "execution_count": null,
   "id": "satellite-badge",
   "metadata": {},
   "outputs": [],
   "source": []
  },
  {
   "cell_type": "code",
   "execution_count": null,
   "id": "cathedral-translation",
   "metadata": {},
   "outputs": [],
   "source": []
  },
  {
   "cell_type": "code",
   "execution_count": null,
   "id": "biological-fighter",
   "metadata": {},
   "outputs": [],
   "source": []
  },
  {
   "cell_type": "code",
   "execution_count": null,
   "id": "medium-harbor",
   "metadata": {},
   "outputs": [],
   "source": []
  },
  {
   "cell_type": "code",
   "execution_count": null,
   "id": "valuable-anderson",
   "metadata": {},
   "outputs": [],
   "source": []
  },
  {
   "cell_type": "code",
   "execution_count": null,
   "id": "enclosed-construction",
   "metadata": {},
   "outputs": [],
   "source": []
  },
  {
   "cell_type": "code",
   "execution_count": null,
   "id": "sapphire-retailer",
   "metadata": {},
   "outputs": [],
   "source": []
  },
  {
   "cell_type": "code",
   "execution_count": null,
   "id": "manufactured-disco",
   "metadata": {},
   "outputs": [],
   "source": []
  },
  {
   "cell_type": "code",
   "execution_count": null,
   "id": "bronze-seafood",
   "metadata": {},
   "outputs": [],
   "source": [
    "df_top_fp=df[df['target']==0].sort_values(\"target_pred\", ascending=False)[:10]\n",
    "df_top_fp.to_csv(\"top_10_fp.csv\", index=False)"
   ]
  },
  {
   "cell_type": "code",
   "execution_count": null,
   "id": "rubber-thickness",
   "metadata": {},
   "outputs": [],
   "source": [
    "df_min = df.sort_values(\"target_pred\")[:10].copy()\n",
    "df_max = df.sort_values(\"target_pred\", ascending=False)[:10].copy()"
   ]
  },
  {
   "cell_type": "code",
   "execution_count": null,
   "id": "suspended-communist",
   "metadata": {},
   "outputs": [],
   "source": [
    "df_max"
   ]
  },
  {
   "cell_type": "code",
   "execution_count": null,
   "id": "unique-quilt",
   "metadata": {},
   "outputs": [],
   "source": [
    "df_total = pd.concat([df_max, df_min], ignore_index=True)\n",
    "df_total.to_csv(\"top_min_max.csv\", index=False)"
   ]
  },
  {
   "cell_type": "code",
   "execution_count": null,
   "id": "solar-percentage",
   "metadata": {},
   "outputs": [],
   "source": [
    "!nvidia-smi"
   ]
  },
  {
   "cell_type": "code",
   "execution_count": 4,
   "id": "planned-cinema",
   "metadata": {},
   "outputs": [],
   "source": [
    "def get_lr(optimizer):\n",
    "    for param_group in optimizer.param_groups:\n",
    "        return param_group['lr']"
   ]
  },
  {
   "cell_type": "code",
   "execution_count": 40,
   "id": "unique-israeli",
   "metadata": {},
   "outputs": [],
   "source": [
    "from torch.optim import Adam\n",
    "from torchvision import models\n",
    "from torch.optim.lr_scheduler import CosineAnnealingWarmRestarts, CosineAnnealingLR\n",
    "import matplotlib.pyplot as plt\n",
    "\n",
    "model = models.resnet18()\n",
    "optimizer = Adam(model.parameters(), lr=0.001)"
   ]
  },
  {
   "cell_type": "code",
   "execution_count": 49,
   "id": "british-mumbai",
   "metadata": {},
   "outputs": [],
   "source": [
    "lrs = [0.001]\n",
    "\n",
    "# scheduler = CosineAnnealingWarmRestarts(optimizer, 5, 1)\n",
    "scheduler = CosineAnnealingLR(optimizer, T_max=10)\n",
    "\n",
    "for epoch in range(10):\n",
    "    for i in range(3500):\n",
    "        optimizer.step()\n",
    "        scheduler.step(epoch + i / 3500)\n",
    "        lrs.append(get_lr(optimizer))"
   ]
  },
  {
   "cell_type": "code",
   "execution_count": 50,
   "id": "featured-hostel",
   "metadata": {},
   "outputs": [
    {
     "data": {
      "image/png": "[encoded data removed]",
      "text/plain": [
       "<Figure size 1000x300 with 1 Axes>"
      ]
     },
     "metadata": {},
     "output_type": "display_data"
    }
   ],
   "source": [
    "plt.figure(figsize=(10,3))\n",
    "plt.plot(lrs)\n",
    "plt.show()"
   ]
  },
  {
   "cell_type": "code",
   "execution_count": null,
   "id": "greatest-heritage",
   "metadata": {},
   "outputs": [],
   "source": []
  }
 ],
 "metadata": {
  "kernelspec": {
   "display_name": "Python 3",
   "language": "python",
   "name": "python3"
  },
  "language_info": {
   "codemirror_mode": {
    "name": "ipython",
    "version": 3
   },
   "file_extension": ".py",
   "mimetype": "text/x-python",
   "name": "python",
   "nbconvert_exporter": "python",
   "pygments_lexer": "ipython3",
   "version": "3.8.5"
  }
 },
 "nbformat": 4,
 "nbformat_minor": 5
}
