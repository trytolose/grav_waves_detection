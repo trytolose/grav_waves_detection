{
 "cells": [
  {
   "cell_type": "code",
   "execution_count": 1,
   "id": "3cb27edb",
   "metadata": {},
   "outputs": [],
   "source": [
    "import os\n",
    "import numpy as np\n",
    "import pandas as pd\n",
    "from PIL import Image\n",
    "import torch\n",
    "import torch.nn as nn\n",
    "from nnAudio.Spectrogram import CQT1992v2\n",
    "from torch.utils.data import DataLoader, Dataset\n",
    "import timm\n",
    "import albumentations as A\n",
    "from albumentations.pytorch import ToTensorV2\n",
    "from pathlib import Path\n",
    "from sklearn.model_selection import StratifiedKFold\n",
    "from sklearn import metrics\n",
    "from torch.optim.lr_scheduler import ReduceLROnPlateau\n",
    "from tqdm import tqdm\n",
    "from functools import partial"
   ]
  },
  {
   "cell_type": "code",
   "execution_count": 2,
   "id": "95ae9e86",
   "metadata": {},
   "outputs": [],
   "source": [
    "import sys\n",
    "sys.path.insert(0, \"../\")\n",
    "from src.models import CustomModel_v1, Andrewnet_v3_true\n",
    "from src.dataset import TrainDataset\n",
    "from src.transforms import minmax_bandpass_transform"
   ]
  },
  {
   "cell_type": "code",
   "execution_count": 3,
   "id": "f952ac0a",
   "metadata": {},
   "outputs": [],
   "source": [
    "INPUT_PATH = Path(\"/home/trytolose/rinat/kaggle/grav_waves_detection/input\")"
   ]
  },
  {
   "cell_type": "code",
   "execution_count": 4,
   "id": "e1acc68a",
   "metadata": {},
   "outputs": [],
   "source": [
    "# import torch\n",
    "# import torch.nn as nn\n",
    "# import timm\n",
    "\n",
    "# class CustomModel_v1(nn.Module):\n",
    "#     def __init__(self, cfg, pretrained=False):\n",
    "#         super().__init__()\n",
    "#         self.model = timm.create_model(\"efficientnet_b0\", pretrained=pretrained, in_chans=3, num_classes=1)\n",
    "#         self.cqt = CQT1992v2(**cfg.qtransform_params)\n",
    "#         self.h, self.w = 256, 256\n",
    "\n",
    "#     def forward(self, x):\n",
    "#         bs, ch, sig_len = x.shape\n",
    "#         x = x.view(-1, sig_len)\n",
    "#         x = self.cqt(x).unsqueeze(1)\n",
    "#         x = nn.functional.interpolate(x, (self.h, self.w))\n",
    "#         _, _, h, w = x.shape\n",
    "#         x = x.view(bs, 3, h, w)\n",
    "#         output = self.model(x)\n",
    "#         return output\n"
   ]
  },
  {
   "cell_type": "code",
   "execution_count": 5,
   "id": "c16e8ac8",
   "metadata": {},
   "outputs": [],
   "source": [
    "class CFG:\n",
    "    def __init__(self):\n",
    "        self.qtransform_params = {\n",
    "            'sr': 2048,\n",
    "            'fmin': 20,\n",
    "            'fmax': 1024,\n",
    "            'hop_length': 32,\n",
    "            'bins_per_octave': 8,\n",
    "        }\n",
    "\n",
    "        self.bandpass_param = {\n",
    "          'lf': 30,\n",
    "          'hf': 400,\n",
    "          'order': 8, \n",
    "          'sr': 2048,\n",
    "        }\n",
    "cfg = CFG()"
   ]
  },
  {
   "cell_type": "code",
   "execution_count": 6,
   "id": "b9c2f9ce",
   "metadata": {},
   "outputs": [],
   "source": [
    "df = pd.read_csv(INPUT_PATH / \"sample_submission.csv\")\n",
    "\n",
    "files = list((INPUT_PATH / \"test\").rglob(\"*.npy\"))\n",
    "FILE_PATH_DICT = {x.stem: str(x) for x in files}\n",
    "df[\"path\"] = df[\"id\"].apply(lambda x: FILE_PATH_DICT[x])"
   ]
  },
  {
   "cell_type": "code",
   "execution_count": 7,
   "id": "2558481b",
   "metadata": {},
   "outputs": [
    {
     "name": "stdout",
     "output_type": "stream",
     "text": [
      "CQT kernels created, time used = 0.0061 seconds\n"
     ]
    },
    {
     "name": "stderr",
     "output_type": "stream",
     "text": [
      "/home/trytolose/miniconda3/envs/audio/lib/python3.8/site-packages/nnAudio/utils.py:326: SyntaxWarning: If fmax is given, n_bins will be ignored\n",
      "  warnings.warn('If fmax is given, n_bins will be ignored',SyntaxWarning)\n",
      "100%|█████████| 3532/3532 [12:12<00:00,  4.82it/s]\n"
     ]
    }
   ],
   "source": [
    "# model = CustomModel_v1(encoder='rexnet_150', img_h=512, img_w=512,).cuda()\n",
    "# # model = Andrewnet_v3_true().cuda()\n",
    "# transform_f = partial(minmax_bandpass_transform, params=cfg.bandpass_param)\n",
    "# val_ds = TrainDataset(\n",
    "#     df,\n",
    "#     mode=\"test\",\n",
    "#     transform=transform_f,\n",
    "# )\n",
    "# val_loader = DataLoader(val_ds, shuffle=False, num_workers=12, batch_size=64, pin_memory=False)\n",
    "# total_predicts = []\n",
    "# for f in range(1):\n",
    "#     model.load_state_dict(torch.load(f\"../weights/CustomModel_v1/011_rexnet150_bandpass_fp16_cos_5_radam_512_2021-08-30-09-11-44/fold_0/cp_epoch03_score0.87290.pth\"))\n",
    "# #     model.load_state_dict(torch.load(f\"/home/trytolose/rinat/kaggle/grav_waves_detection/weights/Wavenet/010_wavenet_bandpass_fp32_cos_10_2021-08-30-05-38-05/fold_0/cp_epoch08_score0.86815.pth\"))\n",
    "#     val_pred = []\n",
    "#     model.eval()\n",
    "#     with torch.no_grad():\n",
    "#         for x in tqdm(val_loader, ncols=50, leave=True):\n",
    "#             x = x.cuda().float()\n",
    "#             pred = model(x)\n",
    "#             pred = pred.sigmoid().cpu().data.numpy()\n",
    "#             val_pred.append(pred)\n",
    "            \n",
    "#     val_pred = np.concatenate(val_pred).reshape(-1,)\n",
    "#     total_predicts.append(val_pred)"
   ]
  },
  {
   "cell_type": "code",
   "execution_count": 8,
   "id": "396a3a47",
   "metadata": {},
   "outputs": [],
   "source": [
    "paths = [\n",
    "    \"../weights/Wavenet/010_wavenet_bandpass_fp32_cos_10_2021-08-30-05-38-05/fold_0/cp_epoch08_score0.86815.pth\",\n",
    "    \"../weights/Wavenet/028_wavenet_bandpass_fp32_cos_10_best.yaml/fold_1/cp_epoch11_score0.86439.pth\",\n",
    "    \"../weights/Wavenet/028_wavenet_bandpass_fp32_cos_10_best.yaml/fold_2/cp_epoch11_score0.86913.pth\",\n",
    "    \"../weights/Wavenet/028_wavenet_bandpass_fp32_cos_10_best.yaml/fold_3/cp_epoch10_score0.86845.pth\",\n",
    "    \"../weights/Wavenet/028_wavenet_bandpass_fp32_cos_10_best.yaml/fold_4/cp_epoch10_score0.86553.pth\",\n",
    "]"
   ]
  },
  {
   "cell_type": "code",
   "execution_count": 9,
   "id": "7d3ec3be",
   "metadata": {},
   "outputs": [
    {
     "name": "stderr",
     "output_type": "stream",
     "text": [
      "100%|█████████| 3532/3532 [03:51<00:00, 15.28it/s]\n",
      "100%|█████████| 3532/3532 [03:51<00:00, 15.28it/s]\n",
      "100%|█████████| 3532/3532 [03:51<00:00, 15.27it/s]\n",
      "100%|█████████| 3532/3532 [03:50<00:00, 15.29it/s]\n",
      "100%|█████████| 3532/3532 [03:48<00:00, 15.48it/s]\n"
     ]
    }
   ],
   "source": [
    "# model = CustomModel_v1().cuda()\n",
    "model = Andrewnet_v3_true().cuda()\n",
    "transform_f = partial(minmax_bandpass_transform)\n",
    "\n",
    "val_ds = TrainDataset(\n",
    "    df,\n",
    "    mode=\"test\",\n",
    "    transform=transform_f,\n",
    ")\n",
    "val_loader = DataLoader(val_ds, shuffle=False, num_workers=12, batch_size=64, pin_memory=False)\n",
    "total_predicts = []\n",
    "\n",
    "for w_path in paths:\n",
    "    model.load_state_dict(torch.load(w_path))\n",
    "    val_pred = []\n",
    "    model.eval()\n",
    "    with torch.no_grad():\n",
    "        for x in tqdm(val_loader, ncols=50, leave=True):\n",
    "            x = x.cuda().float()\n",
    "            pred = model(x)\n",
    "            pred = pred.sigmoid().cpu().data.numpy()\n",
    "            val_pred.append(pred)\n",
    "            \n",
    "    val_pred = np.concatenate(val_pred).reshape(-1,)\n",
    "    total_predicts.append(val_pred)"
   ]
  },
  {
   "cell_type": "code",
   "execution_count": 10,
   "id": "bbedfc1f",
   "metadata": {},
   "outputs": [],
   "source": [
    "total_predicts = np.stack(total_predicts)"
   ]
  },
  {
   "cell_type": "code",
   "execution_count": 11,
   "id": "11ad876a",
   "metadata": {},
   "outputs": [
    {
     "data": {
      "text/plain": [
       "(5, 226000)"
      ]
     },
     "execution_count": 11,
     "metadata": {},
     "output_type": "execute_result"
    }
   ],
   "source": [
    "total_predicts.shape"
   ]
  },
  {
   "cell_type": "code",
   "execution_count": 12,
   "id": "ef3cf342",
   "metadata": {},
   "outputs": [],
   "source": [
    "df['target'] = total_predicts.mean(axis=0)"
   ]
  },
  {
   "cell_type": "code",
   "execution_count": 13,
   "id": "5557ff03",
   "metadata": {},
   "outputs": [],
   "source": [
    "df = df.drop(\"path\", axis=1)"
   ]
  },
  {
   "cell_type": "code",
   "execution_count": 14,
   "id": "734114a0",
   "metadata": {},
   "outputs": [
    {
     "data": {
      "text/html": [
       "<div>\n",
       "<style scoped>\n",
       "    .dataframe tbody tr th:only-of-type {\n",
       "        vertical-align: middle;\n",
       "    }\n",
       "\n",
       "    .dataframe tbody tr th {\n",
       "        vertical-align: top;\n",
       "    }\n",
       "\n",
       "    .dataframe thead th {\n",
       "        text-align: right;\n",
       "    }\n",
       "</style>\n",
       "<table border=\"1\" class=\"dataframe\">\n",
       "  <thead>\n",
       "    <tr style=\"text-align: right;\">\n",
       "      <th></th>\n",
       "      <th>id</th>\n",
       "      <th>target</th>\n",
       "    </tr>\n",
       "  </thead>\n",
       "  <tbody>\n",
       "    <tr>\n",
       "      <th>0</th>\n",
       "      <td>00005bced6</td>\n",
       "      <td>0.999924</td>\n",
       "    </tr>\n",
       "    <tr>\n",
       "      <th>1</th>\n",
       "      <td>0000806717</td>\n",
       "      <td>0.988476</td>\n",
       "    </tr>\n",
       "    <tr>\n",
       "      <th>2</th>\n",
       "      <td>0000ef4fe1</td>\n",
       "      <td>0.241230</td>\n",
       "    </tr>\n",
       "    <tr>\n",
       "      <th>3</th>\n",
       "      <td>00020de251</td>\n",
       "      <td>0.537449</td>\n",
       "    </tr>\n",
       "    <tr>\n",
       "      <th>4</th>\n",
       "      <td>00024887b5</td>\n",
       "      <td>0.166916</td>\n",
       "    </tr>\n",
       "    <tr>\n",
       "      <th>...</th>\n",
       "      <td>...</td>\n",
       "      <td>...</td>\n",
       "    </tr>\n",
       "    <tr>\n",
       "      <th>225995</th>\n",
       "      <td>ffff4125f1</td>\n",
       "      <td>0.351886</td>\n",
       "    </tr>\n",
       "    <tr>\n",
       "      <th>225996</th>\n",
       "      <td>ffff9d32a6</td>\n",
       "      <td>0.355625</td>\n",
       "    </tr>\n",
       "    <tr>\n",
       "      <th>225997</th>\n",
       "      <td>ffff9f4c1f</td>\n",
       "      <td>0.239442</td>\n",
       "    </tr>\n",
       "    <tr>\n",
       "      <th>225998</th>\n",
       "      <td>ffffa19693</td>\n",
       "      <td>0.999924</td>\n",
       "    </tr>\n",
       "    <tr>\n",
       "      <th>225999</th>\n",
       "      <td>ffffebbfe2</td>\n",
       "      <td>0.094885</td>\n",
       "    </tr>\n",
       "  </tbody>\n",
       "</table>\n",
       "<p>226000 rows × 2 columns</p>\n",
       "</div>"
      ],
      "text/plain": [
       "                id    target\n",
       "0       00005bced6  0.999924\n",
       "1       0000806717  0.988476\n",
       "2       0000ef4fe1  0.241230\n",
       "3       00020de251  0.537449\n",
       "4       00024887b5  0.166916\n",
       "...            ...       ...\n",
       "225995  ffff4125f1  0.351886\n",
       "225996  ffff9d32a6  0.355625\n",
       "225997  ffff9f4c1f  0.239442\n",
       "225998  ffffa19693  0.999924\n",
       "225999  ffffebbfe2  0.094885\n",
       "\n",
       "[226000 rows x 2 columns]"
      ]
     },
     "execution_count": 14,
     "metadata": {},
     "output_type": "execute_result"
    }
   ],
   "source": [
    "df"
   ]
  },
  {
   "cell_type": "code",
   "execution_count": 15,
   "id": "09db0af4",
   "metadata": {},
   "outputs": [],
   "source": [
    "df.to_csv(\"submission_wavenet_01234.csv\", index=False)"
   ]
  },
  {
   "cell_type": "code",
   "execution_count": 113,
   "id": "ac502c25",
   "metadata": {},
   "outputs": [],
   "source": [
    "df_rex = pd.read_csv(\"submission_rexnet150.csv\")"
   ]
  },
  {
   "cell_type": "code",
   "execution_count": 114,
   "id": "b5c19039",
   "metadata": {},
   "outputs": [],
   "source": [
    "df_blend = df.copy()"
   ]
  },
  {
   "cell_type": "code",
   "execution_count": 115,
   "id": "97662fc0",
   "metadata": {},
   "outputs": [],
   "source": [
    "df_blend['target'] = 0.5* df['target'] + 0.5*df_rex['target']\n",
    "df_blend.to_csv(\"submission_blend.csv\", index=False)"
   ]
  },
  {
   "cell_type": "code",
   "execution_count": 16,
   "id": "664a026a",
   "metadata": {},
   "outputs": [
    {
     "name": "stdout",
     "output_type": "stream",
     "text": [
      "100%|██████████████████████████████████████| 4.66M/4.66M [00:03<00:00, 1.33MB/s]\n",
      "Successfully submitted to G2Net Gravitational Wave Detection"
     ]
    }
   ],
   "source": [
    "!kaggle competitions submit -c g2net-gravitational-wave-detection -f submission_wavenet_01234.csv -m \"submission_wavenet_01234\""
   ]
  },
  {
   "cell_type": "code",
   "execution_count": null,
   "id": "2c461b1e",
   "metadata": {},
   "outputs": [],
   "source": []
  },
  {
   "cell_type": "code",
   "execution_count": null,
   "id": "2ef84b1b",
   "metadata": {},
   "outputs": [],
   "source": []
  },
  {
   "cell_type": "code",
   "execution_count": null,
   "id": "0905f4ef",
   "metadata": {},
   "outputs": [],
   "source": []
  },
  {
   "cell_type": "code",
   "execution_count": null,
   "id": "64e79c3e",
   "metadata": {},
   "outputs": [],
   "source": []
  },
  {
   "cell_type": "code",
   "execution_count": null,
   "id": "37a8341e",
   "metadata": {},
   "outputs": [],
   "source": []
  },
  {
   "cell_type": "code",
   "execution_count": null,
   "id": "100b8706",
   "metadata": {},
   "outputs": [],
   "source": []
  },
  {
   "cell_type": "code",
   "execution_count": null,
   "id": "c8785d10",
   "metadata": {},
   "outputs": [],
   "source": []
  },
  {
   "cell_type": "code",
   "execution_count": null,
   "id": "21d7a0e8",
   "metadata": {},
   "outputs": [],
   "source": [
    "df_top_fp=df[df['target']==0].sort_values(\"target_pred\", ascending=False)[:10]\n",
    "df_top_fp.to_csv(\"top_10_fp.csv\", index=False)"
   ]
  },
  {
   "cell_type": "code",
   "execution_count": null,
   "id": "5a5dfff3",
   "metadata": {},
   "outputs": [],
   "source": [
    "df_min = df.sort_values(\"target_pred\")[:10].copy()\n",
    "df_max = df.sort_values(\"target_pred\", ascending=False)[:10].copy()"
   ]
  },
  {
   "cell_type": "code",
   "execution_count": null,
   "id": "77b9df82",
   "metadata": {},
   "outputs": [],
   "source": [
    "df_max"
   ]
  },
  {
   "cell_type": "code",
   "execution_count": null,
   "id": "babd5a46",
   "metadata": {},
   "outputs": [],
   "source": [
    "df_total = pd.concat([df_max, df_min], ignore_index=True)\n",
    "df_total.to_csv(\"top_min_max.csv\", index=False)"
   ]
  },
  {
   "cell_type": "code",
   "execution_count": null,
   "id": "0353254a",
   "metadata": {},
   "outputs": [],
   "source": [
    "!nvidia-smi"
   ]
  },
  {
   "cell_type": "code",
   "execution_count": 3,
   "id": "59c1ff49",
   "metadata": {},
   "outputs": [],
   "source": [
    "def get_lr(optimizer):\n",
    "    for param_group in optimizer.param_groups:\n",
    "        return param_group['lr']"
   ]
  },
  {
   "cell_type": "code",
   "execution_count": 36,
   "id": "1d39329e",
   "metadata": {},
   "outputs": [],
   "source": [
    "from torch.optim import Adam\n",
    "from torchvision import models\n",
    "from torch.optim.lr_scheduler import CosineAnnealingWarmRestarts, CosineAnnealingLR\n",
    "import matplotlib.pyplot as plt\n",
    "from timm.scheduler import CosineLRScheduler\n",
    "\n",
    "model = models.resnet18()\n",
    "optimizer = Adam(model.parameters(), lr=0.001)"
   ]
  },
  {
   "cell_type": "code",
   "execution_count": 69,
   "id": "19f1b3da",
   "metadata": {},
   "outputs": [],
   "source": [
    "lrs = []\n",
    "scheduler = CosineLRScheduler(optimizer, 30, t_mul=1, warmup_t=15, cycle_limit=1)\n",
    "# scheduler = CosineAnnealingWarmRestarts(optimizer, 5, 1)\n",
    "# scheduler = CosineAnnealingLR(optimizer, T_max=5, eta_min=0.00001)\n",
    "# print(scheduler.T_max)\n",
    "lrs.append(get_lr(optimizer))\n",
    "for epoch in range(200):\n",
    "#     for i in range(3500):\n",
    "    optimizer.step()\n",
    "#         if epoch < 5:\n",
    "#         scheduler.step(epoch + i / 3500)\n",
    "    lrs.append(get_lr(optimizer))\n",
    "    scheduler.step(epoch)"
   ]
  },
  {
   "cell_type": "code",
   "execution_count": 70,
   "id": "7f583ae0",
   "metadata": {},
   "outputs": [
    {
     "data": {
      "image/png": "[encoded data removed]",
      "text/plain": [
       "<Figure size 1000x300 with 1 Axes>"
      ]
     },
     "metadata": {},
     "output_type": "display_data"
    }
   ],
   "source": [
    "plt.figure(figsize=(10,3))\n",
    "plt.plot(lrs)\n",
    "plt.show()"
   ]
  },
  {
   "cell_type": "code",
   "execution_count": 96,
   "id": "0fb418eb",
   "metadata": {
    "scrolled": true
   },
   "outputs": [],
   "source": [
    "lrs = []\n",
    "scheduler = CosineLRScheduler(optimizer, t_initial=7, t_mul=3, warmup_t=1, cycle_limit=1, decay_rate=0.0001)\n",
    "# scheduler = CosineAnnealingWarmRestarts(optimizer, 5, 1)\n",
    "# scheduler = CosineAnnealingLR(optimizer, T_max=5, eta_min=0.00001)\n",
    "# print(scheduler.T_max)\n",
    "lrs.append(get_lr(optimizer))\n",
    "for epoch in range(10):\n",
    "    for i in range(3500):\n",
    "        optimizer.step()\n",
    "#         if epoch < 5:\n",
    "        scheduler.step(epoch + i / 3500)\n",
    "        lrs.append(get_lr(optimizer))\n",
    "        scheduler.step(epoch)"
   ]
  },
  {
   "cell_type": "code",
   "execution_count": 97,
   "id": "df670421",
   "metadata": {},
   "outputs": [
    {
     "data": {
      "image/png": "[encoded data removed]",
      "text/plain": [
       "<Figure size 1000x300 with 1 Axes>"
      ]
     },
     "metadata": {},
     "output_type": "display_data"
    }
   ],
   "source": [
    "plt.figure(figsize=(10,3))\n",
    "plt.plot(lrs)\n",
    "plt.show()"
   ]
  },
  {
   "cell_type": "code",
   "execution_count": 16,
   "id": "89627bf2",
   "metadata": {},
   "outputs": [],
   "source": [
    "X_std = (x - np.array([0, 0, 0])) / 10\n",
    "X_scaled = X_std * (2) - 1"
   ]
  },
  {
   "cell_type": "code",
   "execution_count": 17,
   "id": "453429f9",
   "metadata": {},
   "outputs": [
    {
     "data": {
      "text/plain": [
       "array([[[ 0.2,  0.4, -0.2],\n",
       "        [ 0.2,  0. , -0.8],\n",
       "        [-0.4,  0. , -0.6],\n",
       "        [-0.8, -0.8,  0.8],\n",
       "        [ 0.4, -0.4, -0.2],\n",
       "        [-0.6, -0.6, -0.8],\n",
       "        [-0.2, -0.4, -0.4],\n",
       "        [ 0.8, -0.6,  0. ],\n",
       "        [-0.4,  0. ,  0.4]],\n",
       "\n",
       "       [[ 0.4, -0.4, -0.6],\n",
       "        [-0.6, -0.2, -1. ],\n",
       "        [ 0.8, -1. , -1. ],\n",
       "        [-0.8, -0.6, -0.8],\n",
       "        [-1. , -0.2,  0.4],\n",
       "        [ 0. , -1. ,  0.6],\n",
       "        [ 0.2,  0.2, -0.2],\n",
       "        [ 0.4,  0.4,  0.8],\n",
       "        [-0.8,  0.6, -1. ]],\n",
       "\n",
       "       [[-0.2,  0. ,  0.2],\n",
       "        [-0.8, -1. , -0.4],\n",
       "        [-0.8,  0.2,  0.8],\n",
       "        [ 0.4, -0.4, -0.8],\n",
       "        [ 0.2,  0.8,  0.2],\n",
       "        [-0.8,  0.8, -0.6],\n",
       "        [-0.4, -0.2, -0.6],\n",
       "        [ 0.8,  0.8, -0.8],\n",
       "        [-0.4,  0.6,  0.8]],\n",
       "\n",
       "       [[ 0.6, -0.8,  0. ],\n",
       "        [-0.8,  0.4, -0.8],\n",
       "        [ 0.8, -0.8,  0.8],\n",
       "        [ 0.6,  0.4, -0.6],\n",
       "        [ 0.6, -0.4, -0.4],\n",
       "        [-0.8,  0.6, -0.8],\n",
       "        [-0.6, -0.4,  0.4],\n",
       "        [-0.2,  0. , -0.8],\n",
       "        [-0.2, -0.8,  0.2]],\n",
       "\n",
       "       [[ 0.4,  0.2,  0.4],\n",
       "        [-1. , -0.2, -1. ],\n",
       "        [ 0.6, -0.4,  0. ],\n",
       "        [ 0.6, -0.4,  0.4],\n",
       "        [ 0.4,  0.2, -0.2],\n",
       "        [ 0.4, -0.8, -1. ],\n",
       "        [-1. ,  0.4,  0.8],\n",
       "        [-1. , -0.2,  0.2],\n",
       "        [-1. , -0.4, -0.4]],\n",
       "\n",
       "       [[-0.8, -0.6, -0.2],\n",
       "        [ 0.2, -0.4, -0.6],\n",
       "        [-1. , -0.6,  0.6],\n",
       "        [-0.2,  0.6, -0.4],\n",
       "        [ 0.4, -0.4,  0.6],\n",
       "        [-0.2, -0.6, -0.8],\n",
       "        [ 0.6,  0.6, -0.2],\n",
       "        [-1. ,  0.8, -0.8],\n",
       "        [ 0.6, -0.8,  0.6]],\n",
       "\n",
       "       [[-0.4,  0.2,  0.8],\n",
       "        [-0.2, -0.2, -0.8],\n",
       "        [-1. , -0.2, -0.2],\n",
       "        [ 0. , -0.8, -0.2],\n",
       "        [-1. ,  0.2, -0.2],\n",
       "        [-0.4, -0.8, -0.6],\n",
       "        [ 0. , -0.6, -0.6],\n",
       "        [ 0.2, -0.4, -0.4],\n",
       "        [-0.2, -1. ,  0. ]],\n",
       "\n",
       "       [[-0.8, -0.4, -1. ],\n",
       "        [ 0.6,  0.2, -0.4],\n",
       "        [-0.4,  0. ,  0.4],\n",
       "        [ 0.6,  0.8, -0.8],\n",
       "        [ 0.6,  0. , -0.8],\n",
       "        [ 0. , -0.4,  0.4],\n",
       "        [-1. ,  0.6,  0.6],\n",
       "        [ 0. ,  0. , -0.6],\n",
       "        [-0.6, -0.2, -0.6]],\n",
       "\n",
       "       [[-0.6,  0. , -0.6],\n",
       "        [ 0.6, -1. , -0.4],\n",
       "        [ 0. ,  0.6, -0.6],\n",
       "        [-1. ,  0.6, -0.8],\n",
       "        [ 0.2, -0.2,  0. ],\n",
       "        [ 0.2,  0.2,  0.8],\n",
       "        [ 0.6,  0.6,  0.2],\n",
       "        [ 0.8, -0.6,  0.8],\n",
       "        [-0.2,  0.2,  0.4]]])"
      ]
     },
     "execution_count": 17,
     "metadata": {},
     "output_type": "execute_result"
    }
   ],
   "source": [
    "X_scaled"
   ]
  },
  {
   "cell_type": "code",
   "execution_count": null,
   "id": "bff9def6",
   "metadata": {},
   "outputs": [],
   "source": []
  }
 ],
 "metadata": {
  "kernelspec": {
   "display_name": "Python 3",
   "language": "python",
   "name": "python3"
  },
  "language_info": {
   "codemirror_mode": {
    "name": "ipython",
    "version": 3
   },
   "file_extension": ".py",
   "mimetype": "text/x-python",
   "name": "python",
   "nbconvert_exporter": "python",
   "pygments_lexer": "ipython3",
   "version": "3.8.5"
  }
 },
 "nbformat": 4,
 "nbformat_minor": 5
}
