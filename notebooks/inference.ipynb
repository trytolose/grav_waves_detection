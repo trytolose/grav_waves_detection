{
 "cells": [
  {
   "cell_type": "code",
   "execution_count": 1,
   "id": "3771160e",
   "metadata": {},
   "outputs": [],
   "source": [
    "import os\n",
    "import numpy as np\n",
    "import pandas as pd\n",
    "from PIL import Image\n",
    "import torch\n",
    "import torch.nn as nn\n",
    "from nnAudio.Spectrogram import CQT1992v2\n",
    "from torch.utils.data import DataLoader, Dataset\n",
    "import timm\n",
    "import albumentations as A\n",
    "from albumentations.pytorch import ToTensorV2\n",
    "from pathlib import Path\n",
    "from sklearn.model_selection import StratifiedKFold\n",
    "from sklearn import metrics\n",
    "from torch.optim.lr_scheduler import ReduceLROnPlateau\n",
    "from tqdm import tqdm\n",
    "from functools import partial"
   ]
  },
  {
   "cell_type": "code",
   "execution_count": 2,
   "id": "aa6afd69",
   "metadata": {},
   "outputs": [],
   "source": [
    "import sys\n",
    "sys.path.insert(0, \"../\")\n",
    "from src.models import CustomModel_v1, Andrewnet_v3_true\n",
    "from src.dataset import TrainDataset\n",
    "from src.transforms import minmax_bandpass_transform"
   ]
  },
  {
   "cell_type": "code",
   "execution_count": 3,
   "id": "8ce7ef52",
   "metadata": {},
   "outputs": [],
   "source": [
    "INPUT_PATH = Path(\"/home/trytolose/rinat/kaggle/grav_waves_detection/input\")"
   ]
  },
  {
   "cell_type": "code",
   "execution_count": 4,
   "id": "c170bdad",
   "metadata": {},
   "outputs": [],
   "source": [
    "# import torch\n",
    "# import torch.nn as nn\n",
    "# import timm\n",
    "\n",
    "# class CustomModel_v1(nn.Module):\n",
    "#     def __init__(self, cfg, pretrained=False):\n",
    "#         super().__init__()\n",
    "#         self.model = timm.create_model(\"efficientnet_b0\", pretrained=pretrained, in_chans=3, num_classes=1)\n",
    "#         self.cqt = CQT1992v2(**cfg.qtransform_params)\n",
    "#         self.h, self.w = 256, 256\n",
    "\n",
    "#     def forward(self, x):\n",
    "#         bs, ch, sig_len = x.shape\n",
    "#         x = x.view(-1, sig_len)\n",
    "#         x = self.cqt(x).unsqueeze(1)\n",
    "#         x = nn.functional.interpolate(x, (self.h, self.w))\n",
    "#         _, _, h, w = x.shape\n",
    "#         x = x.view(bs, 3, h, w)\n",
    "#         output = self.model(x)\n",
    "#         return output\n"
   ]
  },
  {
   "cell_type": "code",
   "execution_count": 5,
   "id": "6d7680b0",
   "metadata": {},
   "outputs": [],
   "source": [
    "class CFG:\n",
    "    def __init__(self):\n",
    "        self.qtransform_params = {\n",
    "            'sr': 2048,\n",
    "            'fmin': 20,\n",
    "            'fmax': 1024,\n",
    "            'hop_length': 32,\n",
    "            'bins_per_octave': 8,\n",
    "        }\n",
    "\n",
    "        self.bandpass_param = {\n",
    "          'lf': 30,\n",
    "          'hf': 400,\n",
    "          'order': 8, \n",
    "          'sr': 2048,\n",
    "        }\n",
    "cfg = CFG()"
   ]
  },
  {
   "cell_type": "code",
   "execution_count": 6,
   "id": "b4ed8d64",
   "metadata": {},
   "outputs": [],
   "source": [
    "df = pd.read_csv(INPUT_PATH / \"sample_submission.csv\")\n",
    "\n",
    "files = list((INPUT_PATH / \"test\").rglob(\"*.npy\"))\n",
    "FILE_PATH_DICT = {x.stem: str(x) for x in files}\n",
    "df[\"path\"] = df[\"id\"].apply(lambda x: FILE_PATH_DICT[x])"
   ]
  },
  {
   "cell_type": "code",
   "execution_count": 7,
   "id": "f9fe445f",
   "metadata": {},
   "outputs": [
    {
     "name": "stdout",
     "output_type": "stream",
     "text": [
      "total 695368\n",
      "-rw-rw-r-- 1 trytolose trytolose   2560697 Aug 28 18:11 wavenet_fold_0_w.pt\n",
      "-rw-rw-r-- 1 trytolose trytolose  17082923 Aug 28 13:00 cos_bandpass_minmax_fold_0_w.pt\n",
      "-rw-rw-r-- 1 trytolose trytolose  16697067 Aug 28 10:39 stack_turkey_q_fold_0_w.pt\n",
      "-rw-rw-r-- 1 trytolose trytolose  16697067 Aug 28 10:39 stack_bandpass_turkey_transform_q_fold_4_w.pt\n",
      "-rw-rw-r-- 1 trytolose trytolose  16697067 Aug 28 10:39 stack_bandpass_turkey_transform_q_fold_3_w.pt\n",
      "-rw-rw-r-- 1 trytolose trytolose  16697067 Aug 28 10:39 stack_bandpass_turkey_transform_q_fold_2_w.pt\n",
      "-rw-rw-r-- 1 trytolose trytolose  16697067 Aug 28 10:39 stack_bandpass_turkey_transform_q_fold_1_w.pt\n",
      "-rw-rw-r-- 1 trytolose trytolose  16697067 Aug 28 10:39 stack_bandpass_turkey_transform_q_fold_0_w.pt\n",
      "-rw-rw-r-- 1 trytolose trytolose  16327345 Aug 28 10:39 stack_bandpass_turkey_transform_cwt_fold_0_w.pt\n",
      "-rw-rw-r-- 1 trytolose trytolose  16697067 Aug 28 10:39 stack_bandpass_transform_q_fold_0_w.pt\n",
      "-rw-rw-r-- 1 trytolose trytolose  17082923 Aug 28 10:39 min_max_check_fold_4_w.pt\n",
      "-rw-rw-r-- 1 trytolose trytolose  17082923 Aug 28 10:39 min_max_check_fold_3_w.pt\n",
      "-rw-rw-r-- 1 trytolose trytolose  17082923 Aug 28 10:39 min_max_check_fold_2_w.pt\n",
      "-rw-rw-r-- 1 trytolose trytolose  17082923 Aug 28 10:39 min_max_check_fold_1_w.pt\n",
      "-rw-rw-r-- 1 trytolose trytolose  17082923 Aug 28 10:39 min_max_check_fold_0_w.pt\n",
      "-rw-rw-r-- 1 trytolose trytolose 362016291 Aug 28 10:38 default_stack_pos_w_fold_0_w.pt\n",
      "-rw-rw-r-- 1 trytolose trytolose  15126081 Aug 28 10:38 default_stack_512_fold_0_w.pt\n",
      "-rw-rw-r-- 1 trytolose trytolose  15126081 Aug 28 10:38 default_ch_2_fold_0_w.pt\n",
      "-rw-rw-r-- 1 trytolose trytolose  15126081 Aug 28 10:38 default_ch_1_fold_0_w.pt\n",
      "-rw-rw-r-- 1 trytolose trytolose  15126081 Aug 28 10:38 default_ch_0_fold_0_w.pt\n",
      "-rw-rw-r-- 1 trytolose trytolose  17082923 Aug 28 10:38 cos_check_fold_0_w.pt\n",
      "-rw-rw-r-- 1 trytolose trytolose  17079787 Aug 28 10:38 baseline_f0.pt\n",
      "-rw-rw-r-- 1 trytolose trytolose  17065707 Aug 28 10:38 baseline_f0_part_epoch.pt\n"
     ]
    }
   ],
   "source": [
    "!ls -lt ../weights"
   ]
  },
  {
   "cell_type": "code",
   "execution_count": 19,
   "id": "1bd5a3fe",
   "metadata": {},
   "outputs": [
    {
     "name": "stdout",
     "output_type": "stream",
     "text": [
      "total 28\n",
      "drwxrwxr-x 3 trytolose trytolose 4096 авг 29 20:51 004_effnetb0_bandpass_fp16_cos_2021-08-29-20-51-18\n",
      "drwxrwxr-x 3 trytolose trytolose 4096 авг 29 22:16 004_effnetb0_bandpass_fp16_cos5_2021-08-29-22-16-57\n",
      "drwxrwxr-x 3 trytolose trytolose 4096 авг 29 23:47 006_effnetb0_bandpass_fp32_cos_5_2021-08-29-23-47-49\n",
      "drwxrwxr-x 3 trytolose trytolose 4096 авг 29 23:22 007_effnetb0_bandpass_fp32_cos_5_radam_2021-08-29-23-22-15\n",
      "drwxrwxr-x 3 trytolose trytolose 4096 авг 30 01:29 007_effnetb0_bandpass_fp32_cos_5_radam_2021-08-30-01-29-25\n",
      "drwxrwxr-x 3 trytolose trytolose 4096 авг 30 03:11 008_rexnet150_bandpass_fp32_cos_5_2021-08-30-03-11-16\n",
      "drwxrwxr-x 3 trytolose trytolose 4096 авг 30 09:11 011_rexnet150_bandpass_fp16_cos_5_radam_512_2021-08-30-09-11-44\n"
     ]
    }
   ],
   "source": [
    "!ls -l ../weights/CustomModel_v1/"
   ]
  },
  {
   "cell_type": "code",
   "execution_count": 7,
   "id": "35dc257f",
   "metadata": {},
   "outputs": [
    {
     "name": "stdout",
     "output_type": "stream",
     "text": [
      "CQT kernels created, time used = 0.0061 seconds\n"
     ]
    },
    {
     "name": "stderr",
     "output_type": "stream",
     "text": [
      "/home/trytolose/miniconda3/envs/audio/lib/python3.8/site-packages/nnAudio/utils.py:326: SyntaxWarning: If fmax is given, n_bins will be ignored\n",
      "  warnings.warn('If fmax is given, n_bins will be ignored',SyntaxWarning)\n",
      "100%|█████████| 3532/3532 [12:12<00:00,  4.82it/s]\n"
     ]
    }
   ],
   "source": [
    "model = CustomModel_v1(encoder='rexnet_150', img_h=512, img_w=512,).cuda()\n",
    "# model = Andrewnet_v3_true().cuda()\n",
    "transform_f = partial(minmax_bandpass_transform, params=cfg.bandpass_param)\n",
    "val_ds = TrainDataset(\n",
    "    df,\n",
    "    mode=\"test\",\n",
    "    transform=transform_f,\n",
    ")\n",
    "val_loader = DataLoader(val_ds, shuffle=False, num_workers=12, batch_size=64, pin_memory=False)\n",
    "total_predicts = []\n",
    "for f in range(1):\n",
    "    model.load_state_dict(torch.load(f\"../weights/CustomModel_v1/011_rexnet150_bandpass_fp16_cos_5_radam_512_2021-08-30-09-11-44/fold_0/cp_epoch03_score0.87290.pth\"))\n",
    "#     model.load_state_dict(torch.load(f\"/home/trytolose/rinat/kaggle/grav_waves_detection/weights/Wavenet/010_wavenet_bandpass_fp32_cos_10_2021-08-30-05-38-05/fold_0/cp_epoch08_score0.86815.pth\"))\n",
    "    val_pred = []\n",
    "    model.eval()\n",
    "    with torch.no_grad():\n",
    "        for x in tqdm(val_loader, ncols=50, leave=True):\n",
    "            x = x.cuda().float()\n",
    "            pred = model(x)\n",
    "            pred = pred.sigmoid().cpu().data.numpy()\n",
    "            val_pred.append(pred)\n",
    "            \n",
    "    val_pred = np.concatenate(val_pred).reshape(-1,)\n",
    "    total_predicts.append(val_pred)"
   ]
  },
  {
   "cell_type": "code",
   "execution_count": 8,
   "id": "9103a7ad",
   "metadata": {},
   "outputs": [],
   "source": [
    "total_predicts = np.stack(total_predicts)"
   ]
  },
  {
   "cell_type": "code",
   "execution_count": 9,
   "id": "3f165ef7",
   "metadata": {},
   "outputs": [
    {
     "data": {
      "text/plain": [
       "(1, 226000)"
      ]
     },
     "execution_count": 9,
     "metadata": {},
     "output_type": "execute_result"
    }
   ],
   "source": [
    "total_predicts.shape"
   ]
  },
  {
   "cell_type": "code",
   "execution_count": 10,
   "id": "b43d3304",
   "metadata": {},
   "outputs": [],
   "source": [
    "df['target'] = total_predicts[0] #.mean(axis=0)"
   ]
  },
  {
   "cell_type": "code",
   "execution_count": 11,
   "id": "e440145c",
   "metadata": {},
   "outputs": [],
   "source": [
    "df = df.drop(\"path\", axis=1)"
   ]
  },
  {
   "cell_type": "code",
   "execution_count": 12,
   "id": "e48d95f9",
   "metadata": {},
   "outputs": [
    {
     "data": {
      "text/html": [
       "<div>\n",
       "<style scoped>\n",
       "    .dataframe tbody tr th:only-of-type {\n",
       "        vertical-align: middle;\n",
       "    }\n",
       "\n",
       "    .dataframe tbody tr th {\n",
       "        vertical-align: top;\n",
       "    }\n",
       "\n",
       "    .dataframe thead th {\n",
       "        text-align: right;\n",
       "    }\n",
       "</style>\n",
       "<table border=\"1\" class=\"dataframe\">\n",
       "  <thead>\n",
       "    <tr style=\"text-align: right;\">\n",
       "      <th></th>\n",
       "      <th>id</th>\n",
       "      <th>target</th>\n",
       "    </tr>\n",
       "  </thead>\n",
       "  <tbody>\n",
       "    <tr>\n",
       "      <th>0</th>\n",
       "      <td>00005bced6</td>\n",
       "      <td>1.000000</td>\n",
       "    </tr>\n",
       "    <tr>\n",
       "      <th>1</th>\n",
       "      <td>0000806717</td>\n",
       "      <td>0.948652</td>\n",
       "    </tr>\n",
       "    <tr>\n",
       "      <th>2</th>\n",
       "      <td>0000ef4fe1</td>\n",
       "      <td>0.364732</td>\n",
       "    </tr>\n",
       "    <tr>\n",
       "      <th>3</th>\n",
       "      <td>00020de251</td>\n",
       "      <td>0.924107</td>\n",
       "    </tr>\n",
       "    <tr>\n",
       "      <th>4</th>\n",
       "      <td>00024887b5</td>\n",
       "      <td>0.109295</td>\n",
       "    </tr>\n",
       "    <tr>\n",
       "      <th>...</th>\n",
       "      <td>...</td>\n",
       "      <td>...</td>\n",
       "    </tr>\n",
       "    <tr>\n",
       "      <th>225995</th>\n",
       "      <td>ffff4125f1</td>\n",
       "      <td>0.527561</td>\n",
       "    </tr>\n",
       "    <tr>\n",
       "      <th>225996</th>\n",
       "      <td>ffff9d32a6</td>\n",
       "      <td>0.291367</td>\n",
       "    </tr>\n",
       "    <tr>\n",
       "      <th>225997</th>\n",
       "      <td>ffff9f4c1f</td>\n",
       "      <td>0.214463</td>\n",
       "    </tr>\n",
       "    <tr>\n",
       "      <th>225998</th>\n",
       "      <td>ffffa19693</td>\n",
       "      <td>0.999996</td>\n",
       "    </tr>\n",
       "    <tr>\n",
       "      <th>225999</th>\n",
       "      <td>ffffebbfe2</td>\n",
       "      <td>0.065196</td>\n",
       "    </tr>\n",
       "  </tbody>\n",
       "</table>\n",
       "<p>226000 rows × 2 columns</p>\n",
       "</div>"
      ],
      "text/plain": [
       "                id    target\n",
       "0       00005bced6  1.000000\n",
       "1       0000806717  0.948652\n",
       "2       0000ef4fe1  0.364732\n",
       "3       00020de251  0.924107\n",
       "4       00024887b5  0.109295\n",
       "...            ...       ...\n",
       "225995  ffff4125f1  0.527561\n",
       "225996  ffff9d32a6  0.291367\n",
       "225997  ffff9f4c1f  0.214463\n",
       "225998  ffffa19693  0.999996\n",
       "225999  ffffebbfe2  0.065196\n",
       "\n",
       "[226000 rows x 2 columns]"
      ]
     },
     "execution_count": 12,
     "metadata": {},
     "output_type": "execute_result"
    }
   ],
   "source": [
    "df"
   ]
  },
  {
   "cell_type": "code",
   "execution_count": 13,
   "id": "d840af6f",
   "metadata": {},
   "outputs": [],
   "source": [
    "df.to_csv(\"submission_rexnet150.csv\", index=False)"
   ]
  },
  {
   "cell_type": "code",
   "execution_count": 15,
   "id": "648f483e",
   "metadata": {},
   "outputs": [],
   "source": [
    "df_wavenet = pd.read_csv(\"submission_wavenet.csv\")"
   ]
  },
  {
   "cell_type": "code",
   "execution_count": 16,
   "id": "efb4d60c",
   "metadata": {},
   "outputs": [],
   "source": [
    "df_blend = df.copy()"
   ]
  },
  {
   "cell_type": "code",
   "execution_count": 17,
   "id": "1fbd9433",
   "metadata": {},
   "outputs": [],
   "source": [
    "df_blend['target'] = 0.6* df['target'] + 0.4*df_wavenet['target']\n",
    "df_blend.to_csv(\"submission_blend.csv\", index=False)"
   ]
  },
  {
   "cell_type": "code",
   "execution_count": 18,
   "id": "5b235a03",
   "metadata": {},
   "outputs": [
    {
     "name": "stdout",
     "output_type": "stream",
     "text": [
      "100%|██████████████████████████████████████| 6.54M/6.54M [00:04<00:00, 1.70MB/s]\n",
      "Successfully submitted to G2Net Gravitational Wave Detection"
     ]
    }
   ],
   "source": [
    "!kaggle competitions submit -c g2net-gravitational-wave-detection -f submission_blend.csv -m \"3ch bandpass minmax rexnet150 512x512 plus wavenet fold#0\"\n",
    "\n",
    "\n"
   ]
  },
  {
   "cell_type": "code",
   "execution_count": null,
   "id": "261fe495",
   "metadata": {},
   "outputs": [],
   "source": []
  },
  {
   "cell_type": "code",
   "execution_count": null,
   "id": "f457dd1a",
   "metadata": {},
   "outputs": [],
   "source": []
  },
  {
   "cell_type": "code",
   "execution_count": null,
   "id": "37998e3b",
   "metadata": {},
   "outputs": [],
   "source": []
  },
  {
   "cell_type": "code",
   "execution_count": null,
   "id": "5926a6d0",
   "metadata": {},
   "outputs": [],
   "source": []
  },
  {
   "cell_type": "code",
   "execution_count": null,
   "id": "9dc41184",
   "metadata": {},
   "outputs": [],
   "source": []
  },
  {
   "cell_type": "code",
   "execution_count": null,
   "id": "1d4a7af9",
   "metadata": {},
   "outputs": [],
   "source": []
  },
  {
   "cell_type": "code",
   "execution_count": null,
   "id": "d54b7016",
   "metadata": {},
   "outputs": [],
   "source": []
  },
  {
   "cell_type": "code",
   "execution_count": null,
   "id": "116ee853",
   "metadata": {},
   "outputs": [],
   "source": []
  },
  {
   "cell_type": "code",
   "execution_count": null,
   "id": "da88b70e",
   "metadata": {},
   "outputs": [],
   "source": [
    "df_top_fp=df[df['target']==0].sort_values(\"target_pred\", ascending=False)[:10]\n",
    "df_top_fp.to_csv(\"top_10_fp.csv\", index=False)"
   ]
  },
  {
   "cell_type": "code",
   "execution_count": null,
   "id": "b1f45d87",
   "metadata": {},
   "outputs": [],
   "source": [
    "df_min = df.sort_values(\"target_pred\")[:10].copy()\n",
    "df_max = df.sort_values(\"target_pred\", ascending=False)[:10].copy()"
   ]
  },
  {
   "cell_type": "code",
   "execution_count": null,
   "id": "3b1ea229",
   "metadata": {},
   "outputs": [],
   "source": [
    "df_max"
   ]
  },
  {
   "cell_type": "code",
   "execution_count": null,
   "id": "63213550",
   "metadata": {},
   "outputs": [],
   "source": [
    "df_total = pd.concat([df_max, df_min], ignore_index=True)\n",
    "df_total.to_csv(\"top_min_max.csv\", index=False)"
   ]
  },
  {
   "cell_type": "code",
   "execution_count": null,
   "id": "db32c86c",
   "metadata": {},
   "outputs": [],
   "source": [
    "!nvidia-smi"
   ]
  },
  {
   "cell_type": "code",
   "execution_count": 51,
   "id": "6bb646e9",
   "metadata": {},
   "outputs": [],
   "source": [
    "def get_lr(optimizer):\n",
    "    for param_group in optimizer.param_groups:\n",
    "        return param_group['lr']"
   ]
  },
  {
   "cell_type": "code",
   "execution_count": 52,
   "id": "3ca98ca0",
   "metadata": {},
   "outputs": [],
   "source": [
    "from torch.optim import Adam\n",
    "from torchvision import models\n",
    "from torch.optim.lr_scheduler import CosineAnnealingWarmRestarts, CosineAnnealingLR\n",
    "import matplotlib.pyplot as plt\n",
    "\n",
    "model = models.resnet18()\n",
    "optimizer = Adam(model.parameters(), lr=0.001)"
   ]
  },
  {
   "cell_type": "code",
   "execution_count": 58,
   "id": "7d2c45e1",
   "metadata": {},
   "outputs": [
    {
     "name": "stdout",
     "output_type": "stream",
     "text": [
      "5\n"
     ]
    },
    {
     "name": "stderr",
     "output_type": "stream",
     "text": [
      "/home/trytolose/miniconda3/envs/audio/lib/python3.8/site-packages/torch/optim/lr_scheduler.py:154: UserWarning: The epoch parameter in `scheduler.step()` was not necessary and is being deprecated where possible. Please use `scheduler.step()` to step the scheduler. During the deprecation, if epoch is different from None, the closed form is used instead of the new chainable form, where available. Please open an issue if you are unable to replicate your use case: https://github.com/pytorch/pytorch/issues/new/choose.\n",
      "  warnings.warn(EPOCH_DEPRECATION_WARNING, UserWarning)\n"
     ]
    }
   ],
   "source": [
    "lrs = [0.001]\n",
    "\n",
    "# scheduler = CosineAnnealingWarmRestarts(optimizer, 5, 1)\n",
    "scheduler = CosineAnnealingLR(optimizer, T_max=5, eta_min=0.00001)\n",
    "print(scheduler.T_max)\n",
    "for epoch in range(10):\n",
    "    for i in range(3500):\n",
    "        optimizer.step()\n",
    "        if epoch < 5:\n",
    "            scheduler.step(epoch + i / 3500)\n",
    "        lrs.append(get_lr(optimizer))"
   ]
  },
  {
   "cell_type": "code",
   "execution_count": 57,
   "id": "9a22f0a4",
   "metadata": {},
   "outputs": [
    {
     "data": {
      "image/png": "[encoded data removed]",
      "text/plain": [
       "<Figure size 1000x300 with 1 Axes>"
      ]
     },
     "metadata": {},
     "output_type": "display_data"
    }
   ],
   "source": [
    "plt.figure(figsize=(10,3))\n",
    "plt.plot(lrs)\n",
    "plt.show()"
   ]
  },
  {
   "cell_type": "code",
   "execution_count": 3,
   "id": "1b316738",
   "metadata": {
    "scrolled": true
   },
   "outputs": [
    {
     "data": {
      "text/plain": [
       "array([[[6, 7, 4],\n",
       "        [6, 5, 1],\n",
       "        [3, 5, 2],\n",
       "        [1, 1, 9],\n",
       "        [7, 3, 4],\n",
       "        [2, 2, 1],\n",
       "        [4, 3, 3],\n",
       "        [9, 2, 5],\n",
       "        [3, 5, 7]],\n",
       "\n",
       "       [[7, 3, 2],\n",
       "        [2, 4, 0],\n",
       "        [9, 0, 0],\n",
       "        [1, 2, 1],\n",
       "        [0, 4, 7],\n",
       "        [5, 0, 8],\n",
       "        [6, 6, 4],\n",
       "        [7, 7, 9],\n",
       "        [1, 8, 0]],\n",
       "\n",
       "       [[4, 5, 6],\n",
       "        [1, 0, 3],\n",
       "        [1, 6, 9],\n",
       "        [7, 3, 1],\n",
       "        [6, 9, 6],\n",
       "        [1, 9, 2],\n",
       "        [3, 4, 2],\n",
       "        [9, 9, 1],\n",
       "        [3, 8, 9]],\n",
       "\n",
       "       [[8, 1, 5],\n",
       "        [1, 7, 1],\n",
       "        [9, 1, 9],\n",
       "        [8, 7, 2],\n",
       "        [8, 3, 3],\n",
       "        [1, 8, 1],\n",
       "        [2, 3, 7],\n",
       "        [4, 5, 1],\n",
       "        [4, 1, 6]],\n",
       "\n",
       "       [[7, 6, 7],\n",
       "        [0, 4, 0],\n",
       "        [8, 3, 5],\n",
       "        [8, 3, 7],\n",
       "        [7, 6, 4],\n",
       "        [7, 1, 0],\n",
       "        [0, 7, 9],\n",
       "        [0, 4, 6],\n",
       "        [0, 3, 3]],\n",
       "\n",
       "       [[1, 2, 4],\n",
       "        [6, 3, 2],\n",
       "        [0, 2, 8],\n",
       "        [4, 8, 3],\n",
       "        [7, 3, 8],\n",
       "        [4, 2, 1],\n",
       "        [8, 8, 4],\n",
       "        [0, 9, 1],\n",
       "        [8, 1, 8]],\n",
       "\n",
       "       [[3, 6, 9],\n",
       "        [4, 4, 1],\n",
       "        [0, 4, 4],\n",
       "        [5, 1, 4],\n",
       "        [0, 6, 4],\n",
       "        [3, 1, 2],\n",
       "        [5, 2, 2],\n",
       "        [6, 3, 3],\n",
       "        [4, 0, 5]],\n",
       "\n",
       "       [[1, 3, 0],\n",
       "        [8, 6, 3],\n",
       "        [3, 5, 7],\n",
       "        [8, 9, 1],\n",
       "        [8, 5, 1],\n",
       "        [5, 3, 7],\n",
       "        [0, 8, 8],\n",
       "        [5, 5, 2],\n",
       "        [2, 4, 2]],\n",
       "\n",
       "       [[2, 5, 2],\n",
       "        [8, 0, 3],\n",
       "        [5, 8, 2],\n",
       "        [0, 8, 1],\n",
       "        [6, 4, 5],\n",
       "        [6, 6, 9],\n",
       "        [8, 8, 6],\n",
       "        [9, 2, 9],\n",
       "        [4, 6, 7]]])"
      ]
     },
     "execution_count": 3,
     "metadata": {},
     "output_type": "execute_result"
    }
   ],
   "source": [
    "import numpy as np\n",
    "\n",
    "# def min_max_scale(waves, min_val=-1, max_val=1):\n",
    "#     X_std = (waves.T - TOTAL_MIN_VAL) / (TOTAL_MAX_VAL - TOTAL_MIN_VAL)\n",
    "#     X_scaled = X_std * (max_val - min_val) + min_val\n",
    "#     return X_scaled.T\n",
    "\n",
    "\n",
    "x = np.random.randint(low=0, high=10, size=(9, 9, 3))\n",
    "x"
   ]
  },
  {
   "cell_type": "code",
   "execution_count": 16,
   "id": "a82ca6ba",
   "metadata": {},
   "outputs": [],
   "source": [
    "X_std = (x - np.array([0, 0, 0])) / 10\n",
    "X_scaled = X_std * (2) - 1"
   ]
  },
  {
   "cell_type": "code",
   "execution_count": 17,
   "id": "6dd9ceeb",
   "metadata": {},
   "outputs": [
    {
     "data": {
      "text/plain": [
       "array([[[ 0.2,  0.4, -0.2],\n",
       "        [ 0.2,  0. , -0.8],\n",
       "        [-0.4,  0. , -0.6],\n",
       "        [-0.8, -0.8,  0.8],\n",
       "        [ 0.4, -0.4, -0.2],\n",
       "        [-0.6, -0.6, -0.8],\n",
       "        [-0.2, -0.4, -0.4],\n",
       "        [ 0.8, -0.6,  0. ],\n",
       "        [-0.4,  0. ,  0.4]],\n",
       "\n",
       "       [[ 0.4, -0.4, -0.6],\n",
       "        [-0.6, -0.2, -1. ],\n",
       "        [ 0.8, -1. , -1. ],\n",
       "        [-0.8, -0.6, -0.8],\n",
       "        [-1. , -0.2,  0.4],\n",
       "        [ 0. , -1. ,  0.6],\n",
       "        [ 0.2,  0.2, -0.2],\n",
       "        [ 0.4,  0.4,  0.8],\n",
       "        [-0.8,  0.6, -1. ]],\n",
       "\n",
       "       [[-0.2,  0. ,  0.2],\n",
       "        [-0.8, -1. , -0.4],\n",
       "        [-0.8,  0.2,  0.8],\n",
       "        [ 0.4, -0.4, -0.8],\n",
       "        [ 0.2,  0.8,  0.2],\n",
       "        [-0.8,  0.8, -0.6],\n",
       "        [-0.4, -0.2, -0.6],\n",
       "        [ 0.8,  0.8, -0.8],\n",
       "        [-0.4,  0.6,  0.8]],\n",
       "\n",
       "       [[ 0.6, -0.8,  0. ],\n",
       "        [-0.8,  0.4, -0.8],\n",
       "        [ 0.8, -0.8,  0.8],\n",
       "        [ 0.6,  0.4, -0.6],\n",
       "        [ 0.6, -0.4, -0.4],\n",
       "        [-0.8,  0.6, -0.8],\n",
       "        [-0.6, -0.4,  0.4],\n",
       "        [-0.2,  0. , -0.8],\n",
       "        [-0.2, -0.8,  0.2]],\n",
       "\n",
       "       [[ 0.4,  0.2,  0.4],\n",
       "        [-1. , -0.2, -1. ],\n",
       "        [ 0.6, -0.4,  0. ],\n",
       "        [ 0.6, -0.4,  0.4],\n",
       "        [ 0.4,  0.2, -0.2],\n",
       "        [ 0.4, -0.8, -1. ],\n",
       "        [-1. ,  0.4,  0.8],\n",
       "        [-1. , -0.2,  0.2],\n",
       "        [-1. , -0.4, -0.4]],\n",
       "\n",
       "       [[-0.8, -0.6, -0.2],\n",
       "        [ 0.2, -0.4, -0.6],\n",
       "        [-1. , -0.6,  0.6],\n",
       "        [-0.2,  0.6, -0.4],\n",
       "        [ 0.4, -0.4,  0.6],\n",
       "        [-0.2, -0.6, -0.8],\n",
       "        [ 0.6,  0.6, -0.2],\n",
       "        [-1. ,  0.8, -0.8],\n",
       "        [ 0.6, -0.8,  0.6]],\n",
       "\n",
       "       [[-0.4,  0.2,  0.8],\n",
       "        [-0.2, -0.2, -0.8],\n",
       "        [-1. , -0.2, -0.2],\n",
       "        [ 0. , -0.8, -0.2],\n",
       "        [-1. ,  0.2, -0.2],\n",
       "        [-0.4, -0.8, -0.6],\n",
       "        [ 0. , -0.6, -0.6],\n",
       "        [ 0.2, -0.4, -0.4],\n",
       "        [-0.2, -1. ,  0. ]],\n",
       "\n",
       "       [[-0.8, -0.4, -1. ],\n",
       "        [ 0.6,  0.2, -0.4],\n",
       "        [-0.4,  0. ,  0.4],\n",
       "        [ 0.6,  0.8, -0.8],\n",
       "        [ 0.6,  0. , -0.8],\n",
       "        [ 0. , -0.4,  0.4],\n",
       "        [-1. ,  0.6,  0.6],\n",
       "        [ 0. ,  0. , -0.6],\n",
       "        [-0.6, -0.2, -0.6]],\n",
       "\n",
       "       [[-0.6,  0. , -0.6],\n",
       "        [ 0.6, -1. , -0.4],\n",
       "        [ 0. ,  0.6, -0.6],\n",
       "        [-1. ,  0.6, -0.8],\n",
       "        [ 0.2, -0.2,  0. ],\n",
       "        [ 0.2,  0.2,  0.8],\n",
       "        [ 0.6,  0.6,  0.2],\n",
       "        [ 0.8, -0.6,  0.8],\n",
       "        [-0.2,  0.2,  0.4]]])"
      ]
     },
     "execution_count": 17,
     "metadata": {},
     "output_type": "execute_result"
    }
   ],
   "source": [
    "X_scaled"
   ]
  },
  {
   "cell_type": "code",
   "execution_count": null,
   "id": "73f97fbb",
   "metadata": {},
   "outputs": [],
   "source": []
  }
 ],
 "metadata": {
  "kernelspec": {
   "display_name": "Python 3",
   "language": "python",
   "name": "python3"
  },
  "language_info": {
   "codemirror_mode": {
    "name": "ipython",
    "version": 3
   },
   "file_extension": ".py",
   "mimetype": "text/x-python",
   "name": "python",
   "nbconvert_exporter": "python",
   "pygments_lexer": "ipython3",
   "version": "3.8.5"
  }
 },
 "nbformat": 4,
 "nbformat_minor": 5
}
