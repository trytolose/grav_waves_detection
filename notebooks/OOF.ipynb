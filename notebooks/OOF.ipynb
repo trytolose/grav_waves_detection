{
 "cells": [
  {
   "cell_type": "code",
   "execution_count": 1,
   "id": "7bafdab5",
   "metadata": {},
   "outputs": [],
   "source": [
    "import os\n",
    "import numpy as np\n",
    "import pandas as pd\n",
    "from PIL import Image\n",
    "import torch\n",
    "import torch.nn as nn\n",
    "from nnAudio.Spectrogram import CQT1992v2\n",
    "from torch.utils.data import DataLoader, Dataset\n",
    "import timm\n",
    "import albumentations as A\n",
    "from albumentations.pytorch import ToTensorV2\n",
    "from pathlib import Path\n",
    "from sklearn.model_selection import StratifiedKFold\n",
    "from sklearn import metrics\n",
    "from torch.optim.lr_scheduler import ReduceLROnPlateau\n",
    "from tqdm import tqdm\n",
    "import matplotlib.pyplot as plt\n",
    "import sys\n",
    "from functools import partial\n",
    "sys.path.insert(0, \"../\")\n",
    "import matplotlib.pyplot as plt\n",
    "%matplotlib inline"
   ]
  },
  {
   "cell_type": "code",
   "execution_count": 2,
   "id": "8dc506e2",
   "metadata": {},
   "outputs": [],
   "source": [
    "from src.models import CustomModel_v1, Andrewnet_v3_true\n",
    "from src.dataset import TrainDataset\n",
    "from src.transforms import minmax_bandpass_transform"
   ]
  },
  {
   "cell_type": "code",
   "execution_count": 3,
   "id": "b6918ab8",
   "metadata": {},
   "outputs": [],
   "source": [
    "class CFG:\n",
    "    def __init__(self):\n",
    "        self.qtransform_params = {\n",
    "            'sr': 2048,\n",
    "            'fmin': 30,\n",
    "            'fmax': 400,\n",
    "            'hop_length': 64,\n",
    "            'bins_per_octave': 12,\n",
    "            'filter_scale': 0.5,\n",
    "        }\n",
    "\n",
    "        self.bandpass_param = {\n",
    "          'lf': 30,\n",
    "          'hf': 400,\n",
    "          'order': 8, \n",
    "          'sr': 2048,\n",
    "        }\n",
    "cfg = CFG()\n",
    "\n",
    "class CFG:\n",
    "    def __init__(self):\n",
    "        self.qtransform_params = {\n",
    "            'sr': 2048,\n",
    "            'fmin': 20,\n",
    "            'fmax': 1024,\n",
    "            'hop_length': 32,\n",
    "            'bins_per_octave': 8,\n",
    "        }\n",
    "\n",
    "        self.bandpass_param = {\n",
    "          'lf': 30,\n",
    "          'hf': 400,\n",
    "        }\n",
    "cfg = CFG()"
   ]
  },
  {
   "cell_type": "code",
   "execution_count": 13,
   "id": "fb6fb99e",
   "metadata": {},
   "outputs": [],
   "source": [
    "INPUT_PATH = Path(\"/home/trytolose/rinat/kaggle/grav_waves_detection/input\")\n",
    "\n",
    "df = pd.read_csv(INPUT_PATH / \"training_labels.csv\")\n",
    "# df = pd.read_csv(INPUT_PATH / \"train_oof_overfit.csv\")\n",
    "\n",
    "files = list((INPUT_PATH / \"train\").rglob(\"*.npy\"))\n",
    "FILE_PATH_DICT = {x.stem: str(x) for x in files}\n",
    "df[\"path\"] = df[\"id\"].apply(lambda x: FILE_PATH_DICT[x])\n",
    "\n",
    "skf = StratifiedKFold(n_splits=5, shuffle=True, random_state=69)\n",
    "df[\"fold\"] = -1\n",
    "for f, (train_ids, val_ids) in enumerate(skf.split(df.index, y=df[\"target\"])):\n",
    "    df.loc[val_ids, \"fold\"] = f"
   ]
  },
  {
   "cell_type": "code",
   "execution_count": 15,
   "id": "a0e184e5",
   "metadata": {},
   "outputs": [
    {
     "data": {
      "text/html": [
       "<div>\n",
       "<style scoped>\n",
       "    .dataframe tbody tr th:only-of-type {\n",
       "        vertical-align: middle;\n",
       "    }\n",
       "\n",
       "    .dataframe tbody tr th {\n",
       "        vertical-align: top;\n",
       "    }\n",
       "\n",
       "    .dataframe thead th {\n",
       "        text-align: right;\n",
       "    }\n",
       "</style>\n",
       "<table border=\"1\" class=\"dataframe\">\n",
       "  <thead>\n",
       "    <tr style=\"text-align: right;\">\n",
       "      <th></th>\n",
       "      <th>id</th>\n",
       "      <th>target</th>\n",
       "      <th>path</th>\n",
       "      <th>fold</th>\n",
       "    </tr>\n",
       "  </thead>\n",
       "  <tbody>\n",
       "    <tr>\n",
       "      <th>2</th>\n",
       "      <td>0000661522</td>\n",
       "      <td>0</td>\n",
       "      <td>/home/trytolose/rinat/kaggle/grav_waves_detect...</td>\n",
       "      <td>4</td>\n",
       "    </tr>\n",
       "    <tr>\n",
       "      <th>3</th>\n",
       "      <td>00007a006a</td>\n",
       "      <td>0</td>\n",
       "      <td>/home/trytolose/rinat/kaggle/grav_waves_detect...</td>\n",
       "      <td>3</td>\n",
       "    </tr>\n",
       "    <tr>\n",
       "      <th>6</th>\n",
       "      <td>0000c3b9c9</td>\n",
       "      <td>0</td>\n",
       "      <td>/home/trytolose/rinat/kaggle/grav_waves_detect...</td>\n",
       "      <td>4</td>\n",
       "    </tr>\n",
       "    <tr>\n",
       "      <th>10</th>\n",
       "      <td>000118b40d</td>\n",
       "      <td>0</td>\n",
       "      <td>/home/trytolose/rinat/kaggle/grav_waves_detect...</td>\n",
       "      <td>1</td>\n",
       "    </tr>\n",
       "    <tr>\n",
       "      <th>11</th>\n",
       "      <td>0001388506</td>\n",
       "      <td>1</td>\n",
       "      <td>/home/trytolose/rinat/kaggle/grav_waves_detect...</td>\n",
       "      <td>2</td>\n",
       "    </tr>\n",
       "    <tr>\n",
       "      <th>...</th>\n",
       "      <td>...</td>\n",
       "      <td>...</td>\n",
       "      <td>...</td>\n",
       "      <td>...</td>\n",
       "    </tr>\n",
       "    <tr>\n",
       "      <th>559994</th>\n",
       "      <td>ffff8ae576</td>\n",
       "      <td>1</td>\n",
       "      <td>/home/trytolose/rinat/kaggle/grav_waves_detect...</td>\n",
       "      <td>3</td>\n",
       "    </tr>\n",
       "    <tr>\n",
       "      <th>559996</th>\n",
       "      <td>ffffab0c27</td>\n",
       "      <td>0</td>\n",
       "      <td>/home/trytolose/rinat/kaggle/grav_waves_detect...</td>\n",
       "      <td>2</td>\n",
       "    </tr>\n",
       "    <tr>\n",
       "      <th>559997</th>\n",
       "      <td>ffffcf161a</td>\n",
       "      <td>1</td>\n",
       "      <td>/home/trytolose/rinat/kaggle/grav_waves_detect...</td>\n",
       "      <td>2</td>\n",
       "    </tr>\n",
       "    <tr>\n",
       "      <th>559998</th>\n",
       "      <td>ffffd2c403</td>\n",
       "      <td>0</td>\n",
       "      <td>/home/trytolose/rinat/kaggle/grav_waves_detect...</td>\n",
       "      <td>4</td>\n",
       "    </tr>\n",
       "    <tr>\n",
       "      <th>559999</th>\n",
       "      <td>fffff2180b</td>\n",
       "      <td>0</td>\n",
       "      <td>/home/trytolose/rinat/kaggle/grav_waves_detect...</td>\n",
       "      <td>2</td>\n",
       "    </tr>\n",
       "  </tbody>\n",
       "</table>\n",
       "<p>448000 rows × 4 columns</p>\n",
       "</div>"
      ],
      "text/plain": [
       "                id  target                                               path  \\\n",
       "2       0000661522       0  /home/trytolose/rinat/kaggle/grav_waves_detect...   \n",
       "3       00007a006a       0  /home/trytolose/rinat/kaggle/grav_waves_detect...   \n",
       "6       0000c3b9c9       0  /home/trytolose/rinat/kaggle/grav_waves_detect...   \n",
       "10      000118b40d       0  /home/trytolose/rinat/kaggle/grav_waves_detect...   \n",
       "11      0001388506       1  /home/trytolose/rinat/kaggle/grav_waves_detect...   \n",
       "...            ...     ...                                                ...   \n",
       "559994  ffff8ae576       1  /home/trytolose/rinat/kaggle/grav_waves_detect...   \n",
       "559996  ffffab0c27       0  /home/trytolose/rinat/kaggle/grav_waves_detect...   \n",
       "559997  ffffcf161a       1  /home/trytolose/rinat/kaggle/grav_waves_detect...   \n",
       "559998  ffffd2c403       0  /home/trytolose/rinat/kaggle/grav_waves_detect...   \n",
       "559999  fffff2180b       0  /home/trytolose/rinat/kaggle/grav_waves_detect...   \n",
       "\n",
       "        fold  \n",
       "2          4  \n",
       "3          3  \n",
       "6          4  \n",
       "10         1  \n",
       "11         2  \n",
       "...      ...  \n",
       "559994     3  \n",
       "559996     2  \n",
       "559997     2  \n",
       "559998     4  \n",
       "559999     2  \n",
       "\n",
       "[448000 rows x 4 columns]"
      ]
     },
     "execution_count": 15,
     "metadata": {},
     "output_type": "execute_result"
    }
   ],
   "source": [
    "df[df['fold']!=0]"
   ]
  },
  {
   "cell_type": "code",
   "execution_count": null,
   "id": "1a56d1e8",
   "metadata": {},
   "outputs": [],
   "source": []
  },
  {
   "cell_type": "code",
   "execution_count": null,
   "id": "9aeb2fe2",
   "metadata": {},
   "outputs": [],
   "source": []
  },
  {
   "cell_type": "code",
   "execution_count": 29,
   "id": "9a85bebc",
   "metadata": {},
   "outputs": [
    {
     "name": "stdout",
     "output_type": "stream",
     "text": [
      "total 100104\n",
      "-rw-rw-r-- 1 trytolose trytolose 17082923 сен  3 01:34 cp_epoch05_score0.85804.pth\n",
      "-rw-rw-r-- 1 trytolose trytolose 17082923 сен  3 01:24 cp_epoch04_score0.86247.pth\n",
      "-rw-rw-r-- 1 trytolose trytolose 17082923 сен  3 01:13 cp_epoch03_score0.86800.pth\n",
      "-rw-rw-r-- 1 trytolose trytolose 17082923 сен  3 01:03 cp_epoch02_score0.86906.pth\n",
      "-rw-rw-r-- 1 trytolose trytolose 17082923 сен  3 00:52 cp_epoch01_score0.86738.pth\n",
      "-rw-rw-r-- 1 trytolose trytolose 17082923 сен  3 00:42 cp_epoch00_score0.86348.pth\n"
     ]
    }
   ],
   "source": [
    "!ls -lt ../weights/CustomModel_v1/015_effnetb0_overfitted_OOF/fold_0"
   ]
  },
  {
   "cell_type": "code",
   "execution_count": 30,
   "id": "79731170",
   "metadata": {},
   "outputs": [],
   "source": [
    "def get_model_paths(exp_path, crietion=\"last\"):\n",
    "    folds = sorted(os.listdir(exp_path), key=lambda x: int(x.split(\"_\")[-1]))\n",
    "    result = []\n",
    "    for f in folds:\n",
    "        weights = list((Path(exp_path) / f).glob(\"*.pth\"))\n",
    "        if crietion==\"last\":\n",
    "            weights = sorted(weights, key=lambda x: int(x.stem.split(\"epoch\")[-1].split(\"_\")[0]))\n",
    "            result.append(weights[-1])\n",
    "        if crietion==\"best\":\n",
    "            weights = sorted(weights, key=lambda x: float(x.stem.split(\"score\")[-1]))\n",
    "            result.append(weights[-1])\n",
    "    return result "
   ]
  },
  {
   "cell_type": "code",
   "execution_count": 31,
   "id": "7e802f03",
   "metadata": {},
   "outputs": [],
   "source": [
    "paths = get_model_paths(\"../weights/CustomModel_v1/015_effnetb0_overfitted_OOF\")"
   ]
  },
  {
   "cell_type": "code",
   "execution_count": 32,
   "id": "87e10f6e",
   "metadata": {},
   "outputs": [
    {
     "data": {
      "text/plain": [
       "[PosixPath('../weights/CustomModel_v1/015_effnetb0_overfitted_OOF/fold_0/cp_epoch05_score0.85804.pth'),\n",
       " PosixPath('../weights/CustomModel_v1/015_effnetb0_overfitted_OOF/fold_1/cp_epoch05_score0.86121.pth'),\n",
       " PosixPath('../weights/CustomModel_v1/015_effnetb0_overfitted_OOF/fold_2/cp_epoch05_score0.85531.pth'),\n",
       " PosixPath('../weights/CustomModel_v1/015_effnetb0_overfitted_OOF/fold_3/cp_epoch05_score0.85375.pth'),\n",
       " PosixPath('../weights/CustomModel_v1/015_effnetb0_overfitted_OOF/fold_4/cp_epoch05_score0.85808.pth')]"
      ]
     },
     "execution_count": 32,
     "metadata": {},
     "output_type": "execute_result"
    }
   ],
   "source": [
    "paths"
   ]
  },
  {
   "cell_type": "code",
   "execution_count": 33,
   "id": "13824353",
   "metadata": {},
   "outputs": [],
   "source": [
    "paths = [\n",
    "    \"../weights/Wavenet/010_wavenet_bandpass_fp32_cos_10_2021-08-30-05-38-05/fold_0/cp_epoch08_score0.86815.pth\",\n",
    "    \"../weights/Wavenet/028_wavenet_bandpass_fp32_cos_10_best.yaml/fold_2/cp_epoch11_score0.86913.pth\",\n",
    "    \"../weights/Wavenet/028_wavenet_bandpass_fp32_cos_10_best.yaml/fold_3/cp_epoch10_score0.86845.pth\",\n",
    "]"
   ]
  },
  {
   "cell_type": "code",
   "execution_count": 38,
   "id": "4e5fd781",
   "metadata": {},
   "outputs": [
    {
     "name": "stderr",
     "output_type": "stream",
     "text": [
      "100%|███████████| 875/875 [01:56<00:00,  7.53it/s]\n",
      "100%|███████████| 875/875 [01:53<00:00,  7.70it/s]\n",
      "100%|███████████| 875/875 [01:57<00:00,  7.46it/s]\n"
     ]
    }
   ],
   "source": [
    "# model = CustomModel_v1().cuda()\n",
    "model = Andrewnet_v3_true().cuda()\n",
    "transform_f = partial(minmax_bandpass_transform)\n",
    "loss_fn = torch.nn.BCEWithLogitsLoss(reduction=\"none\")\n",
    "dfs = []\n",
    "for f, w_path in zip([0,2,3], paths):\n",
    "#     model.load_state_dict(torch.load(f\"../weights/cos_bandpass_minmax_fold_{f}_w.pt\"))\n",
    "    model.load_state_dict(torch.load(w_path))\n",
    "    df_fold = df[df[\"fold\"] == f].reset_index(drop=True)\n",
    "    val_ds = TrainDataset(\n",
    "        df_fold,\n",
    "        mode=\"val\",\n",
    "        transform=transform_f,\n",
    "    )\n",
    "\n",
    "    val_loader = DataLoader(val_ds, shuffle=False, num_workers=12, batch_size=128, pin_memory=False)\n",
    "    losses = []\n",
    "    val_pred = []\n",
    "    model.eval()\n",
    "    with torch.no_grad():\n",
    "        for x, y in tqdm(val_loader, ncols=50, leave=True):\n",
    "            x = x.cuda().float()\n",
    "            y = y.cuda().float().unsqueeze(1)\n",
    "            pred = model(x)\n",
    "            loss = loss_fn(pred, y).cpu().data.numpy()\n",
    "            pred = pred.sigmoid().cpu().data.numpy()\n",
    "            val_pred.append(pred)\n",
    "            losses.append(loss)\n",
    "            \n",
    "    val_pred = np.concatenate(val_pred).reshape(-1,)\n",
    "    losses = np.concatenate(losses).reshape(-1,)\n",
    "    df_fold['pred'] = val_pred\n",
    "    df_fold['loss'] = losses\n",
    "    dfs.append(df_fold)"
   ]
  },
  {
   "cell_type": "code",
   "execution_count": 39,
   "id": "6142c546",
   "metadata": {},
   "outputs": [],
   "source": [
    "df_pred_oof = pd.concat(dfs, ignore_index=True)"
   ]
  },
  {
   "cell_type": "code",
   "execution_count": 40,
   "id": "49b631dd",
   "metadata": {},
   "outputs": [
    {
     "data": {
      "text/plain": [
       "336000"
      ]
     },
     "execution_count": 40,
     "metadata": {},
     "output_type": "execute_result"
    }
   ],
   "source": [
    "len(df_pred_oof)"
   ]
  },
  {
   "cell_type": "code",
   "execution_count": 41,
   "id": "f228906d",
   "metadata": {},
   "outputs": [],
   "source": [
    "df_pred_oof.to_csv(\"train_oof_wavenet_f023.csv\", index=False)"
   ]
  },
  {
   "cell_type": "code",
   "execution_count": 18,
   "id": "5824512c",
   "metadata": {},
   "outputs": [],
   "source": [
    "df_pred_oof['pred_binary'] = (df_pred_oof['pred'] > 0.5).astype(int)"
   ]
  },
  {
   "cell_type": "code",
   "execution_count": 19,
   "id": "0cc36882",
   "metadata": {},
   "outputs": [
    {
     "data": {
      "text/plain": [
       "(248830, 31240, 84541, 195389)"
      ]
     },
     "execution_count": 19,
     "metadata": {},
     "output_type": "execute_result"
    }
   ],
   "source": [
    "tn, fp, fn, tp = metrics.confusion_matrix(df_pred_oof['target'], df_pred_oof['pred_binary']).ravel()\n",
    "(tn, fp, fn, tp)"
   ]
  },
  {
   "cell_type": "code",
   "execution_count": 20,
   "id": "935ac1e8",
   "metadata": {},
   "outputs": [],
   "source": [
    "fp_fn_mask = ((df_pred_oof[\"target\"]==0) & (df_pred_oof[\"pred\"]>0.5)) | ((df_pred_oof[\"target\"]==1) & (df_pred_oof[\"pred\"]<0.5)) \n",
    "tn_mask = (df_pred_oof[\"target\"]==0) & (df_pred_oof[\"pred\"]<0.5)\n",
    "tp_mask = (df_pred_oof[\"target\"]==1) & (df_pred_oof[\"pred\"]>0.5)"
   ]
  },
  {
   "cell_type": "code",
   "execution_count": 34,
   "id": "655e8d41",
   "metadata": {},
   "outputs": [],
   "source": [
    "df_pred_oof['weight'] = 0\n",
    "df_pred_oof.loc[fp_fn_mask, 'weight'] = (fp_fn_mask.sum()/len(df_pred_oof)) * 0.4\n",
    "df_pred_oof.loc[tn_mask, 'weight'] = (tn_mask.sum()/len(df_pred_oof)) * 0.4\n",
    "df_pred_oof.loc[tp_mask, 'weight'] = (tp_mask.sum()/len(df_pred_oof)) * 0.2"
   ]
  },
  {
   "cell_type": "code",
   "execution_count": null,
   "id": "5e85d8ad",
   "metadata": {},
   "outputs": [],
   "source": []
  },
  {
   "cell_type": "code",
   "execution_count": 22,
   "id": "aafe8633",
   "metadata": {},
   "outputs": [
    {
     "data": {
      "text/plain": [
       "0.07592027379660685"
      ]
     },
     "execution_count": 22,
     "metadata": {},
     "output_type": "execute_result"
    }
   ],
   "source": [
    "df_pred_oof.loc[tp_mask, 'loss'].mean()"
   ]
  },
  {
   "cell_type": "code",
   "execution_count": 23,
   "id": "7c077877",
   "metadata": {},
   "outputs": [
    {
     "data": {
      "text/plain": [
       "0.2413377247016903"
      ]
     },
     "execution_count": 23,
     "metadata": {},
     "output_type": "execute_result"
    }
   ],
   "source": [
    "df_pred_oof.loc[tn_mask, 'loss'].mean()"
   ]
  },
  {
   "cell_type": "code",
   "execution_count": 24,
   "id": "de05c174",
   "metadata": {},
   "outputs": [
    {
     "data": {
      "text/plain": [
       "1.5053996327786083"
      ]
     },
     "execution_count": 24,
     "metadata": {},
     "output_type": "execute_result"
    }
   ],
   "source": [
    "df_pred_oof.loc[fp_fn_mask, 'loss'].mean()"
   ]
  },
  {
   "cell_type": "code",
   "execution_count": null,
   "id": "a15243b7",
   "metadata": {},
   "outputs": [],
   "source": []
  },
  {
   "cell_type": "code",
   "execution_count": 35,
   "id": "35a10997",
   "metadata": {},
   "outputs": [
    {
     "data": {
      "text/plain": [
       "0.177736    248830\n",
       "0.069782    195389\n",
       "0.082701    115781\n",
       "Name: weight, dtype: int64"
      ]
     },
     "execution_count": 35,
     "metadata": {},
     "output_type": "execute_result"
    }
   ],
   "source": [
    "df_pred_oof['weight'].value_counts()"
   ]
  },
  {
   "cell_type": "code",
   "execution_count": 36,
   "id": "6d172e0f",
   "metadata": {},
   "outputs": [],
   "source": [
    "df_pred_oof.to_csv(\"train_oof_overfit.csv\", index=False)"
   ]
  },
  {
   "cell_type": "code",
   "execution_count": 1,
   "id": "42801411",
   "metadata": {},
   "outputs": [
    {
     "ename": "NameError",
     "evalue": "name 'df_pred_oof' is not defined",
     "output_type": "error",
     "traceback": [
      "\u001b[0;31m---------------------------------------------------------------------------\u001b[0m",
      "\u001b[0;31mNameError\u001b[0m                                 Traceback (most recent call last)",
      "\u001b[0;32m<ipython-input-1-73313d4178aa>\u001b[0m in \u001b[0;36m<module>\u001b[0;34m\u001b[0m\n\u001b[0;32m----> 1\u001b[0;31m \u001b[0mdf_pred_oof\u001b[0m\u001b[0;34m\u001b[0m\u001b[0;34m\u001b[0m\u001b[0m\n\u001b[0m",
      "\u001b[0;31mNameError\u001b[0m: name 'df_pred_oof' is not defined"
     ]
    }
   ],
   "source": [
    "df_pred_oof"
   ]
  },
  {
   "cell_type": "code",
   "execution_count": 26,
   "id": "95d14ceb",
   "metadata": {},
   "outputs": [
    {
     "ename": "NameError",
     "evalue": "name 'df_pred' is not defined",
     "output_type": "error",
     "traceback": [
      "\u001b[0;31m---------------------------------------------------------------------------\u001b[0m",
      "\u001b[0;31mNameError\u001b[0m                                 Traceback (most recent call last)",
      "\u001b[0;32m<ipython-input-26-eea09bf84128>\u001b[0m in \u001b[0;36m<module>\u001b[0;34m\u001b[0m\n\u001b[0;32m----> 1\u001b[0;31m \u001b[0mdf_pred\u001b[0m \u001b[0;34m=\u001b[0m \u001b[0mdf_pred\u001b[0m\u001b[0;34m.\u001b[0m\u001b[0mdrop\u001b[0m\u001b[0;34m(\u001b[0m\u001b[0;34m\"path\"\u001b[0m\u001b[0;34m,\u001b[0m \u001b[0maxis\u001b[0m\u001b[0;34m=\u001b[0m\u001b[0;36m1\u001b[0m\u001b[0;34m)\u001b[0m\u001b[0;34m\u001b[0m\u001b[0;34m\u001b[0m\u001b[0m\n\u001b[0m",
      "\u001b[0;31mNameError\u001b[0m: name 'df_pred' is not defined"
     ]
    }
   ],
   "source": [
    "df_pred = df_pred.drop(\"path\", axis=1)"
   ]
  },
  {
   "cell_type": "code",
   "execution_count": 10,
   "id": "b1d8c9df",
   "metadata": {},
   "outputs": [],
   "source": [
    "df_pred.to_csv(\"OOF_pred_turkey_bandpass.csv\", index=False)"
   ]
  },
  {
   "cell_type": "code",
   "execution_count": 24,
   "id": "6eafad56",
   "metadata": {},
   "outputs": [
    {
     "data": {
      "text/plain": [
       "0.8671333603182839"
      ]
     },
     "execution_count": 24,
     "metadata": {},
     "output_type": "execute_result"
    }
   ],
   "source": [
    "f0 = df_pred[df_pred['fold']==0]\n",
    "\n",
    "metrics.roc_auc_score(f0['target'], f0['pred'])"
   ]
  },
  {
   "cell_type": "code",
   "execution_count": 3,
   "id": "d0eb1aa0",
   "metadata": {},
   "outputs": [],
   "source": [
    "model = Andrewnet_v3_true()"
   ]
  },
  {
   "cell_type": "code",
   "execution_count": 4,
   "id": "1e3e8b8c",
   "metadata": {},
   "outputs": [
    {
     "data": {
      "text/plain": [
       "tensor([[-0.3139]], grad_fn=<AddmmBackward>)"
      ]
     },
     "execution_count": 4,
     "metadata": {},
     "output_type": "execute_result"
    }
   ],
   "source": [
    "waves = torch.rand(1, 3, 4096)\n",
    "model(waves)"
   ]
  },
  {
   "cell_type": "code",
   "execution_count": null,
   "id": "0698358c",
   "metadata": {},
   "outputs": [],
   "source": []
  },
  {
   "cell_type": "code",
   "execution_count": null,
   "id": "0594b7e0",
   "metadata": {},
   "outputs": [],
   "source": []
  },
  {
   "cell_type": "code",
   "execution_count": null,
   "id": "2901b0a7",
   "metadata": {},
   "outputs": [],
   "source": []
  },
  {
   "cell_type": "code",
   "execution_count": null,
   "id": "e829d17d",
   "metadata": {},
   "outputs": [],
   "source": []
  },
  {
   "cell_type": "code",
   "execution_count": 16,
   "id": "c8a6c32d",
   "metadata": {},
   "outputs": [],
   "source": [
    "df_pred_oof = pd.read_csv(\"train_oof_overfit.csv\")"
   ]
  },
  {
   "cell_type": "code",
   "execution_count": 17,
   "id": "eee90f4f",
   "metadata": {},
   "outputs": [],
   "source": [
    "df[\"loss\"] = df[\"loss\"].round(4)"
   ]
  },
  {
   "cell_type": "code",
   "execution_count": 12,
   "id": "edac7186",
   "metadata": {},
   "outputs": [],
   "source": [
    "df['log_loss'] = np.log(df['pred'].values).round(4)"
   ]
  },
  {
   "cell_type": "code",
   "execution_count": null,
   "id": "1a253b0d",
   "metadata": {},
   "outputs": [],
   "source": []
  }
 ],
 "metadata": {
  "kernelspec": {
   "display_name": "Python 3",
   "language": "python",
   "name": "python3"
  },
  "language_info": {
   "codemirror_mode": {
    "name": "ipython",
    "version": 3
   },
   "file_extension": ".py",
   "mimetype": "text/x-python",
   "name": "python",
   "nbconvert_exporter": "python",
   "pygments_lexer": "ipython3",
   "version": "3.8.5"
  }
 },
 "nbformat": 4,
 "nbformat_minor": 5
}
