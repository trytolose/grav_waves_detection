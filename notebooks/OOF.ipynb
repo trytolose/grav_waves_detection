{
 "cells": [
  {
   "cell_type": "code",
   "execution_count": 1,
   "metadata": {},
   "outputs": [],
   "source": [
    "import os\n",
    "import numpy as np\n",
    "import pandas as pd\n",
    "from PIL import Image\n",
    "import torch\n",
    "import torch.nn as nn\n",
    "from nnAudio.Spectrogram import CQT1992v2\n",
    "from torch.utils.data import DataLoader, Dataset\n",
    "import timm\n",
    "import albumentations as A\n",
    "from albumentations.pytorch import ToTensorV2\n",
    "from pathlib import Path\n",
    "from sklearn.model_selection import StratifiedKFold\n",
    "from sklearn import metrics\n",
    "from torch.optim.lr_scheduler import ReduceLROnPlateau\n",
    "from tqdm import tqdm\n",
    "import matplotlib.pyplot as plt\n",
    "import sys\n",
    "from functools import partial\n",
    "sys.path.insert(0, \"../\")"
   ]
  },
  {
   "cell_type": "code",
   "execution_count": 2,
   "metadata": {},
   "outputs": [
    {
     "ename": "ModuleNotFoundError",
     "evalue": "No module named 'src.model'",
     "output_type": "error",
     "traceback": [
      "\u001b[0;31m---------------------------------------------------------------------------\u001b[0m",
      "\u001b[0;31mModuleNotFoundError\u001b[0m                       Traceback (most recent call last)",
      "\u001b[0;32m<ipython-input-2-be688e6be159>\u001b[0m in \u001b[0;36m<module>\u001b[0;34m\u001b[0m\n\u001b[0;32m----> 1\u001b[0;31m \u001b[0;32mfrom\u001b[0m \u001b[0msrc\u001b[0m\u001b[0;34m.\u001b[0m\u001b[0mmodel\u001b[0m \u001b[0;32mimport\u001b[0m \u001b[0mCustomModel_v1\u001b[0m\u001b[0;34m,\u001b[0m \u001b[0mAndrewnet_v3_true\u001b[0m\u001b[0;34m\u001b[0m\u001b[0;34m\u001b[0m\u001b[0m\n\u001b[0m\u001b[1;32m      2\u001b[0m \u001b[0;32mfrom\u001b[0m \u001b[0msrc\u001b[0m\u001b[0;34m.\u001b[0m\u001b[0mdataset\u001b[0m \u001b[0;32mimport\u001b[0m \u001b[0mTrainDataset\u001b[0m\u001b[0;34m\u001b[0m\u001b[0;34m\u001b[0m\u001b[0m\n\u001b[1;32m      3\u001b[0m \u001b[0;32mfrom\u001b[0m \u001b[0msrc\u001b[0m\u001b[0;34m.\u001b[0m\u001b[0mtransforms\u001b[0m \u001b[0;32mimport\u001b[0m \u001b[0mstack_bandpass_transform\u001b[0m\u001b[0;34m,\u001b[0m \u001b[0mstack_bandpass_turkey_transform\u001b[0m\u001b[0;34m,\u001b[0m \u001b[0mstack_turkey\u001b[0m\u001b[0;34m\u001b[0m\u001b[0;34m\u001b[0m\u001b[0m\n",
      "\u001b[0;31mModuleNotFoundError\u001b[0m: No module named 'src.model'"
     ]
    }
   ],
   "source": [
    "from src.model import CustomModel_v1, Andrewnet_v3_true\n",
    "from src.dataset import TrainDataset\n",
    "from src.transforms import stack_bandpass_transform, stack_bandpass_turkey_transform, stack_turkey"
   ]
  },
  {
   "cell_type": "code",
   "execution_count": 4,
   "metadata": {},
   "outputs": [],
   "source": [
    "class CFG:\n",
    "    def __init__(self):\n",
    "        self.qtransform_params = {\n",
    "            'sr': 2048,\n",
    "            'fmin': 30,\n",
    "            'fmax': 400,\n",
    "            'hop_length': 64,\n",
    "            'bins_per_octave': 12,\n",
    "            'filter_scale': 0.5,\n",
    "        }\n",
    "\n",
    "        self.bandpass_param = {\n",
    "          'lf': 30,\n",
    "          'hf': 400,\n",
    "          'order': 8, \n",
    "          'sr': 2048,\n",
    "        }\n",
    "cfg = CFG()\n",
    "\n",
    "class CFG:\n",
    "    def __init__(self):\n",
    "        self.qtransform_params = {\n",
    "            'sr': 2048,\n",
    "            'fmin': 20,\n",
    "            'fmax': 1024,\n",
    "            'hop_length': 32,\n",
    "            'bins_per_octave': 8,\n",
    "        }\n",
    "\n",
    "        self.bandpass_param = {\n",
    "          'lf': 30,\n",
    "          'hf': 400,\n",
    "          'order': 8, \n",
    "          'sr': 2048,\n",
    "        }\n",
    "cfg = CFG()"
   ]
  },
  {
   "cell_type": "code",
   "execution_count": 5,
   "metadata": {},
   "outputs": [],
   "source": [
    "import torch\n",
    "import torch.nn as nn\n",
    "import timm\n",
    "\n",
    "class CustomModel_v1(nn.Module):\n",
    "    def __init__(self, cfg, pretrained=False):\n",
    "        super().__init__()\n",
    "        self.model = timm.create_model(\"efficientnet_b0\", pretrained=pretrained, in_chans=3, num_classes=1)\n",
    "        self.cqt = CQT1992v2(**cfg.qtransform_params)\n",
    "        self.h, self.w = 256, 256\n",
    "\n",
    "    def forward(self, x):\n",
    "        bs, ch, sig_len = x.shape\n",
    "        x = x.view(-1, sig_len)\n",
    "        x = self.cqt(x).unsqueeze(1)\n",
    "        x = nn.functional.interpolate(x, (self.h, self.w))\n",
    "        _, _, h, w = x.shape\n",
    "        x = x.view(bs, 3, h, w)\n",
    "        output = self.model(x)\n",
    "        return output"
   ]
  },
  {
   "cell_type": "code",
   "execution_count": 6,
   "metadata": {},
   "outputs": [],
   "source": [
    "INPUT_PATH = Path(\"/home/trytolose/rinat/kaggle/grav_waves_detection/input\")\n",
    "\n",
    "df = pd.read_csv(INPUT_PATH / \"training_labels.csv\")\n",
    "\n",
    "files = list((INPUT_PATH / \"train\").rglob(\"*.npy\"))\n",
    "FILE_PATH_DICT = {x.stem: str(x) for x in files}\n",
    "df[\"path\"] = df[\"id\"].apply(lambda x: FILE_PATH_DICT[x])\n",
    "\n",
    "skf = StratifiedKFold(n_splits=5, shuffle=True, random_state=69)\n",
    "df[\"fold\"] = -1\n",
    "for f, (train_ids, val_ids) in enumerate(skf.split(df.index, y=df[\"target\"])):\n",
    "    df.loc[val_ids, \"fold\"] = f"
   ]
  },
  {
   "cell_type": "code",
   "execution_count": 1,
   "metadata": {},
   "outputs": [
    {
     "name": "stdout",
     "output_type": "stream",
     "text": [
      "total 695368\n",
      "-rw-rw-r-- 1 trytolose trytolose   2560697 Aug 28 18:11 wavenet_fold_0_w.pt\n",
      "-rw-rw-r-- 1 trytolose trytolose  17082923 Aug 28 13:00 cos_bandpass_minmax_fold_0_w.pt\n",
      "-rw-rw-r-- 1 trytolose trytolose  16697067 Aug 28 10:39 stack_turkey_q_fold_0_w.pt\n",
      "-rw-rw-r-- 1 trytolose trytolose  16697067 Aug 28 10:39 stack_bandpass_turkey_transform_q_fold_4_w.pt\n",
      "-rw-rw-r-- 1 trytolose trytolose  16697067 Aug 28 10:39 stack_bandpass_turkey_transform_q_fold_3_w.pt\n",
      "-rw-rw-r-- 1 trytolose trytolose  16697067 Aug 28 10:39 stack_bandpass_turkey_transform_q_fold_2_w.pt\n",
      "-rw-rw-r-- 1 trytolose trytolose  16697067 Aug 28 10:39 stack_bandpass_turkey_transform_q_fold_1_w.pt\n",
      "-rw-rw-r-- 1 trytolose trytolose  16697067 Aug 28 10:39 stack_bandpass_turkey_transform_q_fold_0_w.pt\n",
      "-rw-rw-r-- 1 trytolose trytolose  16327345 Aug 28 10:39 stack_bandpass_turkey_transform_cwt_fold_0_w.pt\n",
      "-rw-rw-r-- 1 trytolose trytolose  16697067 Aug 28 10:39 stack_bandpass_transform_q_fold_0_w.pt\n",
      "-rw-rw-r-- 1 trytolose trytolose  17082923 Aug 28 10:39 min_max_check_fold_4_w.pt\n",
      "-rw-rw-r-- 1 trytolose trytolose  17082923 Aug 28 10:39 min_max_check_fold_3_w.pt\n",
      "-rw-rw-r-- 1 trytolose trytolose  17082923 Aug 28 10:39 min_max_check_fold_2_w.pt\n",
      "-rw-rw-r-- 1 trytolose trytolose  17082923 Aug 28 10:39 min_max_check_fold_1_w.pt\n",
      "-rw-rw-r-- 1 trytolose trytolose  17082923 Aug 28 10:39 min_max_check_fold_0_w.pt\n",
      "-rw-rw-r-- 1 trytolose trytolose 362016291 Aug 28 10:38 default_stack_pos_w_fold_0_w.pt\n",
      "-rw-rw-r-- 1 trytolose trytolose  15126081 Aug 28 10:38 default_stack_512_fold_0_w.pt\n",
      "-rw-rw-r-- 1 trytolose trytolose  15126081 Aug 28 10:38 default_ch_2_fold_0_w.pt\n",
      "-rw-rw-r-- 1 trytolose trytolose  15126081 Aug 28 10:38 default_ch_1_fold_0_w.pt\n",
      "-rw-rw-r-- 1 trytolose trytolose  15126081 Aug 28 10:38 default_ch_0_fold_0_w.pt\n",
      "-rw-rw-r-- 1 trytolose trytolose  17082923 Aug 28 10:38 cos_check_fold_0_w.pt\n",
      "-rw-rw-r-- 1 trytolose trytolose  17079787 Aug 28 10:38 baseline_f0.pt\n",
      "-rw-rw-r-- 1 trytolose trytolose  17065707 Aug 28 10:38 baseline_f0_part_epoch.pt\n"
     ]
    }
   ],
   "source": [
    "!ls -lt ../weights/"
   ]
  },
  {
   "cell_type": "code",
   "execution_count": 14,
   "metadata": {},
   "outputs": [
    {
     "name": "stderr",
     "output_type": "stream",
     "text": [
      "100%|███████████| 875/875 [01:50<00:00,  7.88it/s]\n"
     ]
    }
   ],
   "source": [
    "# model = CustomModel_v1(cfg).cuda()\n",
    "model = Andrewnet_v3_true().cuda()\n",
    "transform_f = partial(stack_bandpass_transform, params=cfg.bandpass_param)\n",
    "dfs = []\n",
    "for f in range(1):\n",
    "#     model.load_state_dict(torch.load(f\"../weights/cos_bandpass_minmax_fold_{f}_w.pt\"))\n",
    "    model.load_state_dict(torch.load(f\"../weights/wavenet_fold_{f}_w.pt\"))\n",
    "    df_fold = df[df[\"fold\"] == f].reset_index(drop=True)\n",
    "    val_ds = TrainDataset(\n",
    "        df_fold,\n",
    "        mode=\"val\",\n",
    "        transform=transform_f,\n",
    "    )\n",
    "\n",
    "    val_loader = DataLoader(val_ds, shuffle=False, num_workers=12, batch_size=128, pin_memory=False)\n",
    "\n",
    "    val_pred = []\n",
    "    model.eval()\n",
    "    with torch.no_grad():\n",
    "        for x, y in tqdm(val_loader, ncols=50, leave=True):\n",
    "            x = x.cuda().float()\n",
    "            y = y.cuda().float().unsqueeze(1)\n",
    "            pred = model(x)\n",
    "            pred = pred.sigmoid().cpu().data.numpy()\n",
    "            val_pred.append(pred)\n",
    "            \n",
    "    val_pred = np.concatenate(val_pred).reshape(-1,)\n",
    "    df_fold['pred'] = val_pred\n",
    "    dfs.append(df_fold)\n",
    "    break"
   ]
  },
  {
   "cell_type": "code",
   "execution_count": 15,
   "metadata": {},
   "outputs": [],
   "source": [
    "df_pred_wav = pd.concat(dfs, ignore_index=True)"
   ]
  },
  {
   "cell_type": "code",
   "execution_count": 17,
   "metadata": {},
   "outputs": [],
   "source": [
    "df_pred_cnn['pred_wave'] = df_pred_wav['pred']"
   ]
  },
  {
   "cell_type": "code",
   "execution_count": 21,
   "metadata": {},
   "outputs": [
    {
     "data": {
      "text/html": [
       "<div>\n",
       "<style scoped>\n",
       "    .dataframe tbody tr th:only-of-type {\n",
       "        vertical-align: middle;\n",
       "    }\n",
       "\n",
       "    .dataframe tbody tr th {\n",
       "        vertical-align: top;\n",
       "    }\n",
       "\n",
       "    .dataframe thead th {\n",
       "        text-align: right;\n",
       "    }\n",
       "</style>\n",
       "<table border=\"1\" class=\"dataframe\">\n",
       "  <thead>\n",
       "    <tr style=\"text-align: right;\">\n",
       "      <th></th>\n",
       "      <th>id</th>\n",
       "      <th>target</th>\n",
       "      <th>path</th>\n",
       "      <th>fold</th>\n",
       "      <th>pred</th>\n",
       "      <th>pred_wave</th>\n",
       "    </tr>\n",
       "  </thead>\n",
       "  <tbody>\n",
       "    <tr>\n",
       "      <th>17</th>\n",
       "      <td>0008983698</td>\n",
       "      <td>1</td>\n",
       "      <td>/home/trytolose/rinat/kaggle/grav_waves_detect...</td>\n",
       "      <td>0</td>\n",
       "      <td>0.437847</td>\n",
       "      <td>0.888049</td>\n",
       "    </tr>\n",
       "    <tr>\n",
       "      <th>115</th>\n",
       "      <td>004349ef0d</td>\n",
       "      <td>1</td>\n",
       "      <td>/home/trytolose/rinat/kaggle/grav_waves_detect...</td>\n",
       "      <td>0</td>\n",
       "      <td>0.497625</td>\n",
       "      <td>0.803272</td>\n",
       "    </tr>\n",
       "    <tr>\n",
       "      <th>153</th>\n",
       "      <td>005646617c</td>\n",
       "      <td>1</td>\n",
       "      <td>/home/trytolose/rinat/kaggle/grav_waves_detect...</td>\n",
       "      <td>0</td>\n",
       "      <td>0.452706</td>\n",
       "      <td>0.754645</td>\n",
       "    </tr>\n",
       "    <tr>\n",
       "      <th>195</th>\n",
       "      <td>006f545b8c</td>\n",
       "      <td>1</td>\n",
       "      <td>/home/trytolose/rinat/kaggle/grav_waves_detect...</td>\n",
       "      <td>0</td>\n",
       "      <td>0.396070</td>\n",
       "      <td>0.511481</td>\n",
       "    </tr>\n",
       "    <tr>\n",
       "      <th>258</th>\n",
       "      <td>009ed4a8dc</td>\n",
       "      <td>1</td>\n",
       "      <td>/home/trytolose/rinat/kaggle/grav_waves_detect...</td>\n",
       "      <td>0</td>\n",
       "      <td>0.397621</td>\n",
       "      <td>0.635463</td>\n",
       "    </tr>\n",
       "    <tr>\n",
       "      <th>...</th>\n",
       "      <td>...</td>\n",
       "      <td>...</td>\n",
       "      <td>...</td>\n",
       "      <td>...</td>\n",
       "      <td>...</td>\n",
       "      <td>...</td>\n",
       "    </tr>\n",
       "    <tr>\n",
       "      <th>111731</th>\n",
       "      <td>ff5f48f96e</td>\n",
       "      <td>1</td>\n",
       "      <td>/home/trytolose/rinat/kaggle/grav_waves_detect...</td>\n",
       "      <td>0</td>\n",
       "      <td>0.461193</td>\n",
       "      <td>0.606963</td>\n",
       "    </tr>\n",
       "    <tr>\n",
       "      <th>111777</th>\n",
       "      <td>ff77bfb6d3</td>\n",
       "      <td>1</td>\n",
       "      <td>/home/trytolose/rinat/kaggle/grav_waves_detect...</td>\n",
       "      <td>0</td>\n",
       "      <td>0.362596</td>\n",
       "      <td>0.507778</td>\n",
       "    </tr>\n",
       "    <tr>\n",
       "      <th>111796</th>\n",
       "      <td>ff832ec5e4</td>\n",
       "      <td>1</td>\n",
       "      <td>/home/trytolose/rinat/kaggle/grav_waves_detect...</td>\n",
       "      <td>0</td>\n",
       "      <td>0.383760</td>\n",
       "      <td>0.712144</td>\n",
       "    </tr>\n",
       "    <tr>\n",
       "      <th>111907</th>\n",
       "      <td>ffc921782e</td>\n",
       "      <td>1</td>\n",
       "      <td>/home/trytolose/rinat/kaggle/grav_waves_detect...</td>\n",
       "      <td>0</td>\n",
       "      <td>0.393046</td>\n",
       "      <td>0.541465</td>\n",
       "    </tr>\n",
       "    <tr>\n",
       "      <th>111960</th>\n",
       "      <td>ffe6a71fbe</td>\n",
       "      <td>1</td>\n",
       "      <td>/home/trytolose/rinat/kaggle/grav_waves_detect...</td>\n",
       "      <td>0</td>\n",
       "      <td>0.497979</td>\n",
       "      <td>0.672808</td>\n",
       "    </tr>\n",
       "  </tbody>\n",
       "</table>\n",
       "<p>1746 rows × 6 columns</p>\n",
       "</div>"
      ],
      "text/plain": [
       "                id  target                                               path  \\\n",
       "17      0008983698       1  /home/trytolose/rinat/kaggle/grav_waves_detect...   \n",
       "115     004349ef0d       1  /home/trytolose/rinat/kaggle/grav_waves_detect...   \n",
       "153     005646617c       1  /home/trytolose/rinat/kaggle/grav_waves_detect...   \n",
       "195     006f545b8c       1  /home/trytolose/rinat/kaggle/grav_waves_detect...   \n",
       "258     009ed4a8dc       1  /home/trytolose/rinat/kaggle/grav_waves_detect...   \n",
       "...            ...     ...                                                ...   \n",
       "111731  ff5f48f96e       1  /home/trytolose/rinat/kaggle/grav_waves_detect...   \n",
       "111777  ff77bfb6d3       1  /home/trytolose/rinat/kaggle/grav_waves_detect...   \n",
       "111796  ff832ec5e4       1  /home/trytolose/rinat/kaggle/grav_waves_detect...   \n",
       "111907  ffc921782e       1  /home/trytolose/rinat/kaggle/grav_waves_detect...   \n",
       "111960  ffe6a71fbe       1  /home/trytolose/rinat/kaggle/grav_waves_detect...   \n",
       "\n",
       "        fold      pred  pred_wave  \n",
       "17         0  0.437847   0.888049  \n",
       "115        0  0.497625   0.803272  \n",
       "153        0  0.452706   0.754645  \n",
       "195        0  0.396070   0.511481  \n",
       "258        0  0.397621   0.635463  \n",
       "...      ...       ...        ...  \n",
       "111731     0  0.461193   0.606963  \n",
       "111777     0  0.362596   0.507778  \n",
       "111796     0  0.383760   0.712144  \n",
       "111907     0  0.393046   0.541465  \n",
       "111960     0  0.497979   0.672808  \n",
       "\n",
       "[1746 rows x 6 columns]"
      ]
     },
     "execution_count": 21,
     "metadata": {},
     "output_type": "execute_result"
    }
   ],
   "source": [
    "xx = df_pred_cnn[(df_pred_cnn['target']==1) & (df_pred_cnn['pred']<0.5)]\n",
    "\n",
    "xx[xx['pred_wave']>0.5]"
   ]
  },
  {
   "cell_type": "code",
   "execution_count": null,
   "metadata": {},
   "outputs": [],
   "source": []
  },
  {
   "cell_type": "code",
   "execution_count": null,
   "metadata": {},
   "outputs": [],
   "source": []
  },
  {
   "cell_type": "code",
   "execution_count": null,
   "metadata": {},
   "outputs": [],
   "source": []
  },
  {
   "cell_type": "code",
   "execution_count": null,
   "metadata": {},
   "outputs": [],
   "source": []
  },
  {
   "cell_type": "code",
   "execution_count": 23,
   "metadata": {},
   "outputs": [],
   "source": [
    "df_pred = df_pred.drop(\"path\", axis=1)"
   ]
  },
  {
   "cell_type": "code",
   "execution_count": 10,
   "metadata": {},
   "outputs": [],
   "source": [
    "df_pred.to_csv(\"OOF_pred_turkey_bandpass.csv\", index=False)"
   ]
  },
  {
   "cell_type": "code",
   "execution_count": 24,
   "metadata": {},
   "outputs": [
    {
     "data": {
      "text/plain": [
       "0.8671333603182839"
      ]
     },
     "execution_count": 24,
     "metadata": {},
     "output_type": "execute_result"
    }
   ],
   "source": [
    "f0 = df_pred[df_pred['fold']==0]\n",
    "\n",
    "metrics.roc_auc_score(f0['target'], f0['pred'])"
   ]
  },
  {
   "cell_type": "code",
   "execution_count": 3,
   "metadata": {},
   "outputs": [],
   "source": [
    "model = Andrewnet_v3_true()"
   ]
  },
  {
   "cell_type": "code",
   "execution_count": 4,
   "metadata": {},
   "outputs": [
    {
     "data": {
      "text/plain": [
       "tensor([[-0.3139]], grad_fn=<AddmmBackward>)"
      ]
     },
     "execution_count": 4,
     "metadata": {},
     "output_type": "execute_result"
    }
   ],
   "source": [
    "waves = torch.rand(1, 3, 4096)\n",
    "model(waves)"
   ]
  },
  {
   "cell_type": "code",
   "execution_count": null,
   "metadata": {},
   "outputs": [],
   "source": []
  }
 ],
 "metadata": {
  "kernelspec": {
   "display_name": "Python 3",
   "language": "python",
   "name": "python3"
  },
  "language_info": {
   "codemirror_mode": {
    "name": "ipython",
    "version": 3
   },
   "file_extension": ".py",
   "mimetype": "text/x-python",
   "name": "python",
   "nbconvert_exporter": "python",
   "pygments_lexer": "ipython3",
   "version": "3.7.7"
  }
 },
 "nbformat": 4,
 "nbformat_minor": 5
}
