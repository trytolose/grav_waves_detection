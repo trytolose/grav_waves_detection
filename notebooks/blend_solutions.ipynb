{
 "cells": [
  {
   "cell_type": "code",
   "execution_count": 1,
   "metadata": {},
   "outputs": [],
   "source": [
    "import os\n",
    "import numpy as np\n",
    "import pandas as pd\n",
    "from matplotlib import pyplot as plt"
   ]
  },
  {
   "cell_type": "code",
   "execution_count": 3,
   "metadata": {},
   "outputs": [
    {
     "name": "stdout",
     "output_type": "stream",
     "text": [
      "total 38168\r\n",
      "-rw-rw-r-- 1 clover_rtx clover_rtx   19401 сен  1 11:12 baseline.ipynb\r\n",
      "-rw-rw-r-- 1 clover_rtx clover_rtx    6570 авг 31 14:34 baseline.py\r\n",
      "-rw-rw-r-- 1 clover_rtx clover_rtx      72 сен  9 18:42 blend_solutions.ipynb\r\n",
      "-rw-rw-r-- 1 clover_rtx clover_rtx   50212 сен  7 18:13 inference.ipynb\r\n",
      "-rw-rw-r-- 1 clover_rtx clover_rtx   46111 сен  9 17:25 inference-OOF.ipynb\r\n",
      "-rw-rw-r-- 1 clover_rtx clover_rtx   18840 сен  7 21:08 OOF.ipynb\r\n",
      "-rw-rw-r-- 1 clover_rtx clover_rtx     607 авг 31 14:34 scaler.pkl\r\n",
      "-rw-rw-r-- 1 clover_rtx clover_rtx 4862065 сен  3 19:30 submission_baseline_fp32_tukey_min_max_2.csv\r\n",
      "-rw-rw-r-- 1 clover_rtx clover_rtx 4897603 сен  7 22:32 submission_baseline_tukey_fp32_bp30-400_bs20_512x512_0fold.csv\r\n",
      "-rw-rw-r-- 1 clover_rtx clover_rtx 4878246 сен  7 12:06 submission_baseline_tukey_fp32_bp30-400_bs32_5folds_mean.csv\r\n",
      "-rw-rw-r-- 1 clover_rtx clover_rtx 4858346 сен  6 11:38 submission_baseline_tukey_fp32_bp30-400_bs64_5folds_mean.csv\r\n",
      "-rw-rw-r-- 1 clover_rtx clover_rtx 4749255 сен  6 11:41 submission_baseline_tukey_fp32_bp30-400_bs64_5folds_median.csv\r\n",
      "-rw-rw-r-- 1 clover_rtx clover_rtx 4888386 сен  9 17:25 submission_effb3_tukey_fp32_bp30-400_bs32_0_5folds.csv\r\n",
      "-rw-rw-r-- 1 clover_rtx clover_rtx 4889238 сен  8 10:39 submission_tukey_fp32_bp30-400_bs32minmax_0_5folds.csv\r\n",
      "-rw-rw-r-- 1 clover_rtx clover_rtx 4868979 сен  8 13:08 submission_tukey_fp32_bp30-400_bs48minmax_0_5folds.csv\r\n",
      "-rw-rw-r-- 1 clover_rtx clover_rtx   13429 сен  1 11:12 Untitled.ipynb\r\n"
     ]
    }
   ],
   "source": [
    "!ls -l"
   ]
  },
  {
   "cell_type": "code",
   "execution_count": 10,
   "metadata": {},
   "outputs": [],
   "source": [
    "file1 = 'submission_effb3_tukey_fp32_bp30-400_bs32_0_5folds.csv'\n",
    "file2 = 'submission_tukey_fp32_bp30-400_bs32minmax_0_5folds.csv'\n",
    "file3 = 'submission_baseline_tukey_fp32_bp30-400_bs20_512x512_0fold.csv'\n",
    "\n",
    "df1 = pd.read_csv(file1)\n",
    "df2 = pd.read_csv(file2)\n",
    "df3 = pd.read_csv(file3)"
   ]
  },
  {
   "cell_type": "code",
   "execution_count": 5,
   "metadata": {},
   "outputs": [
    {
     "data": {
      "text/html": [
       "<div>\n",
       "<style scoped>\n",
       "    .dataframe tbody tr th:only-of-type {\n",
       "        vertical-align: middle;\n",
       "    }\n",
       "\n",
       "    .dataframe tbody tr th {\n",
       "        vertical-align: top;\n",
       "    }\n",
       "\n",
       "    .dataframe thead th {\n",
       "        text-align: right;\n",
       "    }\n",
       "</style>\n",
       "<table border=\"1\" class=\"dataframe\">\n",
       "  <thead>\n",
       "    <tr style=\"text-align: right;\">\n",
       "      <th></th>\n",
       "      <th>id</th>\n",
       "      <th>target</th>\n",
       "    </tr>\n",
       "  </thead>\n",
       "  <tbody>\n",
       "    <tr>\n",
       "      <th>0</th>\n",
       "      <td>00005bced6</td>\n",
       "      <td>0.999997</td>\n",
       "    </tr>\n",
       "    <tr>\n",
       "      <th>1</th>\n",
       "      <td>0000806717</td>\n",
       "      <td>0.873266</td>\n",
       "    </tr>\n",
       "    <tr>\n",
       "      <th>2</th>\n",
       "      <td>0000ef4fe1</td>\n",
       "      <td>0.363648</td>\n",
       "    </tr>\n",
       "    <tr>\n",
       "      <th>3</th>\n",
       "      <td>00020de251</td>\n",
       "      <td>0.897866</td>\n",
       "    </tr>\n",
       "    <tr>\n",
       "      <th>4</th>\n",
       "      <td>00024887b5</td>\n",
       "      <td>0.139003</td>\n",
       "    </tr>\n",
       "  </tbody>\n",
       "</table>\n",
       "</div>"
      ],
      "text/plain": [
       "           id    target\n",
       "0  00005bced6  0.999997\n",
       "1  0000806717  0.873266\n",
       "2  0000ef4fe1  0.363648\n",
       "3  00020de251  0.897866\n",
       "4  00024887b5  0.139003"
      ]
     },
     "execution_count": 5,
     "metadata": {},
     "output_type": "execute_result"
    }
   ],
   "source": [
    "df1.head()"
   ]
  },
  {
   "cell_type": "code",
   "execution_count": 14,
   "metadata": {},
   "outputs": [],
   "source": [
    "dfb = df1.copy()\n",
    "dfb['target'] = df1['target']*0.33 + df2['target']*0.33 + df3['target']*0.33"
   ]
  },
  {
   "cell_type": "code",
   "execution_count": 15,
   "metadata": {},
   "outputs": [],
   "source": [
    "dfb.to_csv(\"submission_blend_eff3_eff0_512_512_equal.csv\",  index=False)"
   ]
  },
  {
   "cell_type": "code",
   "execution_count": null,
   "metadata": {},
   "outputs": [],
   "source": []
  }
 ],
 "metadata": {
  "kernelspec": {
   "display_name": "Python 3",
   "language": "python",
   "name": "python3"
  },
  "language_info": {
   "codemirror_mode": {
    "name": "ipython",
    "version": 3
   },
   "file_extension": ".py",
   "mimetype": "text/x-python",
   "name": "python",
   "nbconvert_exporter": "python",
   "pygments_lexer": "ipython3",
   "version": "3.7.7"
  }
 },
 "nbformat": 4,
 "nbformat_minor": 4
}
