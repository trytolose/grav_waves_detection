{
 "cells": [
  {
   "cell_type": "code",
   "execution_count": null,
   "id": "important-attitude",
   "metadata": {},
   "outputs": [],
   "source": [
    "import os\n",
    "import numpy as np\n",
    "import pandas as pd\n",
    "from PIL import Image\n",
    "import torch\n",
    "import torch.nn as nn\n",
    "from nnAudio.Spectrogram import CQT1992v2\n",
    "from torch.utils.data import DataLoader, Dataset\n",
    "import timm\n",
    "import albumentations as A\n",
    "from albumentations.pytorch import ToTensorV2\n",
    "from pathlib import Path\n",
    "from sklearn.model_selection import StratifiedKFold\n",
    "from sklearn import metrics\n",
    "from torch.optim.lr_scheduler import ReduceLROnPlateau\n",
    "from tqdm import tqdm\n",
    "import matplotlib.pyplot as plt\n",
    "import sys\n",
    "sys.path.insert(0, \"../\")"
   ]
  },
  {
   "cell_type": "code",
   "execution_count": null,
   "id": "attended-grammar",
   "metadata": {},
   "outputs": [],
   "source": [
    "from src.transforms import stack_bandpass_transform, stack_bandpass_turkey_transform, stack_turkey, dumb_transform"
   ]
  },
  {
   "cell_type": "code",
   "execution_count": null,
   "id": "involved-stake",
   "metadata": {},
   "outputs": [],
   "source": [
    "INPUT_PATH = Path(\"/home/trytolose/rinat/kaggle/grav_waves_detection/input\")"
   ]
  },
  {
   "cell_type": "code",
   "execution_count": null,
   "id": "lesser-unemployment",
   "metadata": {},
   "outputs": [],
   "source": [
    "df = pd.read_csv(INPUT_PATH / \"training_labels.csv\")\n",
    "\n",
    "files = list((INPUT_PATH / \"train\").rglob(\"*.npy\"))\n",
    "FILE_PATH_DICT = {x.stem: str(x) for x in files}\n",
    "df[\"path\"] = df[\"id\"].apply(lambda x: FILE_PATH_DICT[x])"
   ]
  },
  {
   "cell_type": "code",
   "execution_count": null,
   "id": "armed-screw",
   "metadata": {},
   "outputs": [],
   "source": [
    "class CFG:\n",
    "    def __init__(self):\n",
    "        self.qtransform_params = {\n",
    "            'sr': 2048,\n",
    "            'fmin': 30,\n",
    "            'fmax': 400,\n",
    "            'hop_length': 64,\n",
    "            'bins_per_octave': 12,\n",
    "            'filter_scale': 0.5,\n",
    "        }\n",
    "\n",
    "        self.bandpass_param = {\n",
    "          'lf': 30,\n",
    "          'hf': 400,\n",
    "          'order': 8, \n",
    "          'sr': 2048,\n",
    "        }\n",
    "cfg = CFG()"
   ]
  },
  {
   "cell_type": "code",
   "execution_count": null,
   "id": "permanent-cookie",
   "metadata": {},
   "outputs": [],
   "source": [
    "cqt = CQT1992v2(**cfg.qtransform_params)"
   ]
  },
  {
   "cell_type": "code",
   "execution_count": null,
   "id": "numerical-sapphire",
   "metadata": {},
   "outputs": [],
   "source": [
    "\n",
    "df = pd.read_csv(\"../top_min_max.csv\")\n",
    "df[\"path\"] = df[\"id\"].apply(lambda x: FILE_PATH_DICT[x])"
   ]
  },
  {
   "cell_type": "code",
   "execution_count": null,
   "id": "promising-request",
   "metadata": {},
   "outputs": [],
   "source": [
    "1/255"
   ]
  },
  {
   "cell_type": "code",
   "execution_count": null,
   "id": "chemical-venezuela",
   "metadata": {},
   "outputs": [],
   "source": [
    "x = np.load(df.loc[0, \"path\"])\n",
    "# print(np.hstack(x)[:10])\n",
    "# x = stack_bandpass_turkey_transform(x, cfg.bandpass_param)\n",
    "# print(x[:10])\n",
    "print(np.hstack(x)[-10:])\n",
    "print(x.reshape(-1,)[-10:])"
   ]
  },
  {
   "cell_type": "code",
   "execution_count": null,
   "id": "maritime-semester",
   "metadata": {},
   "outputs": [],
   "source": [
    "for i in range(5):\n",
    "    x = np.load(df.loc[i, \"path\"])\n",
    "    print(x.std())\n",
    "    x = stack_bandpass_turkey_transform(x, cfg.bandpass_param)\n",
    "    print(x.std())\n",
    "    x = cqt(torch.tensor(x).float())\n",
    "    x = x.squeeze().numpy()\n",
    "    plt.figure(figsize=(10,10))\n",
    "    plt.imshow(x)\n",
    "    plt.show()"
   ]
  },
  {
   "cell_type": "code",
   "execution_count": null,
   "id": "assigned-prior",
   "metadata": {},
   "outputs": [],
   "source": []
  }
 ],
 "metadata": {
  "kernelspec": {
   "display_name": "Python 3",
   "language": "python",
   "name": "python3"
  },
  "language_info": {
   "codemirror_mode": {
    "name": "ipython",
    "version": 3
   },
   "file_extension": ".py",
   "mimetype": "text/x-python",
   "name": "python",
   "nbconvert_exporter": "python",
   "pygments_lexer": "ipython3",
   "version": "3.8.5"
  }
 },
 "nbformat": 4,
 "nbformat_minor": 5
}
