{
 "cells": [
  {
   "cell_type": "code",
   "execution_count": null,
   "metadata": {},
   "outputs": [],
   "source": [
    "import os\n",
    "import numpy as np\n",
    "import pandas as pd\n",
    "from PIL import Image\n",
    "import torch\n",
    "import torch.nn as nn\n",
    "from nnAudio.Spectrogram import CQT1992v2\n",
    "from torch.utils.data import DataLoader, Dataset\n",
    "import timm\n",
    "import albumentations as A\n",
    "from albumentations.pytorch import ToTensorV2\n",
    "from pathlib import Path\n",
    "from sklearn.model_selection import StratifiedKFold\n",
    "from sklearn import metrics\n",
    "from torch.optim.lr_scheduler import ReduceLROnPlateau\n",
    "from tqdm import tqdm\n",
    "import matplotlib.pyplot as plt\n",
    "import sys\n",
    "import cv2\n",
    "sys.path.insert(0, \"../\")"
   ]
  },
  {
   "cell_type": "code",
   "execution_count": null,
   "metadata": {},
   "outputs": [],
   "source": [
    "from src.transforms import min_max_scale"
   ]
  },
  {
   "cell_type": "code",
   "execution_count": null,
   "metadata": {},
   "outputs": [],
   "source": [
    "INPUT_PATH = Path(\"/home/trytolose/rinat/kaggle/grav_waves_detection/input\")"
   ]
  },
  {
   "cell_type": "code",
   "execution_count": null,
   "metadata": {},
   "outputs": [],
   "source": [
    "# df = pd.read_csv(INPUT_PATH / \"training_labels.csv\")\n",
    "df = pd.read_csv(\"OOF_pred_turkey_bandpass.csv\")\n",
    "files = list((INPUT_PATH / \"train\").rglob(\"*.npy\"))\n",
    "FILE_PATH_DICT = {x.stem: str(x) for x in files}\n",
    "df[\"path\"] = df[\"id\"].apply(lambda x: FILE_PATH_DICT[x])\n",
    "\n",
    "skf = StratifiedKFold(n_splits=5, shuffle=True, random_state=69)\n",
    "df[\"fold\"] = -1\n",
    "for f, (train_ids, val_ids) in enumerate(skf.split(df.index, y=df[\"target\"])):\n",
    "    df.loc[val_ids, \"fold\"] = f"
   ]
  },
  {
   "cell_type": "code",
   "execution_count": null,
   "metadata": {},
   "outputs": [],
   "source": [
    "xx = df[df['target']==1].sort_values(\"pred\", ascending=True).reset_index(drop=True)\n",
    "xx"
   ]
  },
  {
   "cell_type": "code",
   "execution_count": null,
   "metadata": {},
   "outputs": [],
   "source": []
  },
  {
   "cell_type": "code",
   "execution_count": null,
   "metadata": {},
   "outputs": [],
   "source": [
    "class CFG:\n",
    "    def __init__(self):\n",
    "        self.qtransform_params = {\n",
    "            'sr': 2048,\n",
    "            'fmin': 30,\n",
    "            'fmax': 400,\n",
    "            'hop_length': 64,\n",
    "            'bins_per_octave': 12,\n",
    "            'filter_scale': 0.5,\n",
    "        }\n",
    "\n",
    "        self.bandpass_param = {\n",
    "          'lf': 30,\n",
    "          'hf': 400,\n",
    "          'order': 8, \n",
    "          'sr': 2048,\n",
    "        }\n",
    "cfg = CFG()"
   ]
  },
  {
   "cell_type": "code",
   "execution_count": null,
   "metadata": {},
   "outputs": [],
   "source": [
    "cqt = CQT1992v2(**cfg.qtransform_params)"
   ]
  },
  {
   "cell_type": "code",
   "execution_count": null,
   "metadata": {},
   "outputs": [],
   "source": [
    "widths = np.arange(10, 90, 0.5)\n",
    "cwt = CWT(widths, \"cmorlet\", 3, 4096).cuda()"
   ]
  },
  {
   "cell_type": "code",
   "execution_count": null,
   "metadata": {},
   "outputs": [],
   "source": [
    "TOTAL_MAX_VAL = np.array([4.16750054e-20, 4.16596419e-20, 1.11610637e-20])\n",
    "TOTAL_MIN_VAL = np.array([-4.42943562e-20, -4.23039083e-20, -1.08631992e-20])\n",
    "\n",
    "def min_max_scale(waves, min_val=-1, max_val=1):\n",
    "    X_std = (waves.T - TOTAL_MIN_VAL) / (TOTAL_MAX_VAL - TOTAL_MIN_VAL)\n",
    "    print(X_std.max(axis=0), X_std.min(axis=0))\n",
    "    X_scaled = X_std * (max_val - min_val) + min_val\n",
    "    return X_scaled.T"
   ]
  },
  {
   "cell_type": "code",
   "execution_count": null,
   "metadata": {},
   "outputs": [],
   "source": [
    "x = np.load(df.loc[0, \"path\"])\n",
    "print(x.min(axis=1))\n",
    "x.max(axis=1)\n",
    "min_max_scale(x, -1, 1).max()"
   ]
  },
  {
   "cell_type": "code",
   "execution_count": null,
   "metadata": {},
   "outputs": [],
   "source": [
    "x = np.load(df.loc[0, \"path\"])\n",
    "\n",
    "x = stack_bandpass_turkey_transform(x, cfg.bandpass_param)\n",
    "x = torch.tensor(x).float().unsqueeze(0)\n",
    "print(x.shape)\n",
    "out = cwt(x)\n",
    "out = torch.absolute(out).squeeze().cpu().numpy()\n",
    "\n",
    "plt.figure(figsize=(20,20))\n",
    "img = cv2.resize(out[0], (512, 256))\n",
    "plt.imshow(img)\n",
    "plt.show()\n",
    "\n",
    "plt.imshow(\n",
    "    out[0],\n",
    "    aspect=\"auto\",\n",
    "    vmax=out.max(),\n",
    "    vmin=out.min(),\n",
    ")"
   ]
  },
  {
   "cell_type": "code",
   "execution_count": null,
   "metadata": {},
   "outputs": [],
   "source": [
    "out.shape"
   ]
  },
  {
   "cell_type": "code",
   "execution_count": null,
   "metadata": {},
   "outputs": [],
   "source": [
    "from scipy import signal\n",
    "def stack_bandpass_turkey_transform(waves, params):\n",
    "#     waves = waves / np.max(waves)\n",
    "#     waves = apply_win(waves)\n",
    "    waves = apply_bandpass(waves, **params)\n",
    "    # waves = np.hstack(waves)\n",
    "    return waves\n",
    "\n",
    "def apply_bandpass(x, lf=30, hf=400, order=8, sr=2048):\n",
    "    sos = signal.butter(order, [lf, hf], btype=\"bandpass\", output=\"sos\", fs=sr)\n",
    "    normalization = np.sqrt((hf - lf) / (sr / 2))\n",
    "    return signal.sosfiltfilt(sos, x) / normalization\n",
    "def apply_win(x):\n",
    "    xr = x*signal.tukey(4096, 0.1)\n",
    "    return xr"
   ]
  },
  {
   "cell_type": "code",
   "execution_count": null,
   "metadata": {},
   "outputs": [],
   "source": [
    "# for _, row in df[(df['target']==1) & (df['pred']<0.2)].sample(30, replace=False, random_state=1).iterrows():\n",
    "for _, row in df[(df['target']==0) & (df['pred']>.9)].sample(40, replace=False, random_state=1).iterrows():\n",
    "    \n",
    "    x = np.load(row[\"path\"])\n",
    "    x = stack_bandpass_turkey_transform(x, cfg.bandpass_param)\n",
    "    x = cqt(torch.tensor(x).float())\n",
    "    \n",
    "    x = x.squeeze().numpy()\n",
    "    print(x.mean(axis=(1,2)))\n",
    "    plt.figure(figsize=(20,20))\n",
    "    plt.subplot(131)\n",
    "    plt.title(f\"target: {row['target']} pred: {row['pred']}\")\n",
    "    plt.imshow(x[0])\n",
    "    plt.subplot(132)\n",
    "    plt.imshow(x[1])\n",
    "    plt.subplot(133)\n",
    "    plt.imshow(x[2])\n",
    "    \n",
    "    plt.show()\n",
    "    break"
   ]
  },
  {
   "cell_type": "code",
   "execution_count": null,
   "metadata": {},
   "outputs": [],
   "source": [
    "[0.00930675 0.00949222 0.01424521]\n",
    "[0.01025635 0.01018105 0.01501465]\n",
    "\n",
    "[2.5128476e-22 2.4947712e-22 3.6827268e-22]"
   ]
  },
  {
   "cell_type": "code",
   "execution_count": null,
   "metadata": {},
   "outputs": [],
   "source": [
    "from gwpy.timeseries import TimeSeries\n",
    "from gwpy.plot import Plot\n",
    "from matplotlib import pyplot as plt\n",
    "%matplotlib inline"
   ]
  },
  {
   "cell_type": "code",
   "execution_count": null,
   "metadata": {},
   "outputs": [],
   "source": [
    "data = np.load(\"../input/train/0/0/0/000a5b6e5c.npy\")\n",
    "\n",
    "d1 = TimeSeries(data[2,:], sample_rate=2048)"
   ]
  },
  {
   "cell_type": "code",
   "execution_count": null,
   "metadata": {},
   "outputs": [],
   "source": [
    "hq = d1.q_transform(qrange=(16,32), frange=(30,400), logf=True, whiten=False)\n",
    "fig4 = hq.plot(figsize=[12, 10])\n",
    "ax = fig4.gca()\n",
    "fig4.colorbar(label=\"Normalised energy\")\n",
    "ax.grid(False)\n",
    "ax.set_yscale('log')\n",
    "ax.set_xlabel('Time [s]');"
   ]
  },
  {
   "cell_type": "code",
   "execution_count": null,
   "metadata": {},
   "outputs": [],
   "source": [
    "hq = d1.q_transform(qrange=(16,32), frange=(20,600), logf=False, whiten=False)\n",
    "fig4 = hq.plot(figsize=[12, 10])\n",
    "ax = fig4.gca()\n",
    "fig4.colorbar(label=\"Normalised energy\")\n",
    "ax.grid(False)\n",
    "ax.set_yscale('log')\n",
    "ax.set_xlabel('Time [s]');"
   ]
  },
  {
   "cell_type": "code",
   "execution_count": null,
   "metadata": {},
   "outputs": [],
   "source": [
    "np.array(hq).shape"
   ]
  },
  {
   "cell_type": "code",
   "execution_count": null,
   "metadata": {},
   "outputs": [],
   "source": [
    "tt.shape"
   ]
  },
  {
   "cell_type": "code",
   "execution_count": null,
   "metadata": {},
   "outputs": [],
   "source": [
    "plt.figure(figsize=(10,10))\n",
    "plt.imshow(tt)"
   ]
  },
  {
   "cell_type": "code",
   "execution_count": null,
   "metadata": {},
   "outputs": [],
   "source": [
    "from scipy import signal\n",
    "\n",
    "TOTAL_MAX_VAL = np.array([4.61521162e-20, 4.16596419e-20, 1.11610637e-20])\n",
    "TOTAL_MIN_VAL = np.array([-4.42943562e-20, -4.23039083e-20, -1.08631992e-20])\n",
    "\n",
    "\n",
    "def apply_bandpass(x, lf=30, hf=400, order=8, sr=2048):\n",
    "    sos = signal.butter(order, [lf, hf], btype=\"bandpass\", output=\"sos\", fs=sr)\n",
    "    normalization = np.sqrt((hf - lf) / (sr / 2))\n",
    "    return signal.sosfiltfilt(sos, x) / normalization\n",
    "\n",
    "\n",
    "def min_max_scale(waves, min_val=-1, max_val=1):\n",
    "    X_std = (waves.T - TOTAL_MIN_VAL) / (TOTAL_MAX_VAL - TOTAL_MIN_VAL)\n",
    "    X_scaled = X_std * (max_val - min_val) + min_val\n",
    "    return X_scaled.T\n",
    "\n",
    "def create_cqt(wave):\n",
    "    d1 = TimeSeries(wave, sample_rate=2048)\n",
    "    hq = d1.q_transform(qrange=(16,32), frange=(20,600), logf=False, whiten=False)\n",
    "    return np.array(hq)\n",
    "\n",
    "def get_cqt_image(path):\n",
    "    waves = np.load(path)\n",
    "#     waves = min_max_scale(waves)\n",
    "#     waves = apply_bandpass(waves)\n",
    "    \n",
    "    img = np.stack([create_cqt(w) for w in waves], axis=2)\n",
    "    return img"
   ]
  },
  {
   "cell_type": "code",
   "execution_count": null,
   "metadata": {},
   "outputs": [],
   "source": [
    "img = get_cqt_image(\"../input/train/0/0/0/000a5b6e5c.npy\")"
   ]
  },
  {
   "cell_type": "code",
   "execution_count": null,
   "metadata": {},
   "outputs": [],
   "source": [
    "plt.figure(figsize=(10,10))\n",
    "plt.imshow(img[:,:,1])\n",
    "plt.show()"
   ]
  },
  {
   "cell_type": "code",
   "execution_count": null,
   "metadata": {},
   "outputs": [],
   "source": []
  },
  {
   "cell_type": "code",
   "execution_count": null,
   "metadata": {},
   "outputs": [],
   "source": [
    "df"
   ]
  },
  {
   "cell_type": "code",
   "execution_count": null,
   "metadata": {},
   "outputs": [],
   "source": [
    "df[df['fold']==0]"
   ]
  },
  {
   "cell_type": "code",
   "execution_count": null,
   "metadata": {},
   "outputs": [],
   "source": [
    "for f in range(5):\n",
    "    df_f = df[df['fold']==f].reset_index(drop=True)\n",
    "    scaled_fp16 = []\n",
    "    for i in tqdm(range(df_f.shape[0])):\n",
    "        wave_scaled = min_max_scale(np.load(df.loc[i, 'path'])).astype(np.float16)\n",
    "        scaled_fp16.append(wave_scaled)\n",
    "    scaled_fp16 = np.stack(scaled_fp16)\n",
    "    np.save(f\"../input/fp16/train/fold_{f}.npy\", scaled_fp16)"
   ]
  },
  {
   "cell_type": "code",
   "execution_count": null,
   "metadata": {},
   "outputs": [],
   "source": [
    "for f in range(5):\n",
    "    df_f = df[df['fold']==f].reset_index(drop=True)\n",
    "    target = df_f[\"target\"].values.astype(np.int8)\n",
    "    np.save(f\"../input/fp16/train/fold_{f}_target.npy\", target)"
   ]
  },
  {
   "cell_type": "code",
   "execution_count": null,
   "metadata": {},
   "outputs": [],
   "source": [
    "!ls -lh ../input/fp16/train/"
   ]
  },
  {
   "cell_type": "code",
   "execution_count": null,
   "metadata": {},
   "outputs": [],
   "source": [
    "from src.dataset import InMemoryDataset\n",
    "from torch.utils.data import DataLoader"
   ]
  },
  {
   "cell_type": "code",
   "execution_count": null,
   "metadata": {},
   "outputs": [],
   "source": [
    "ds = InMemoryDataset(\"../input/fp16/train\", [0,1,2,3])"
   ]
  },
  {
   "cell_type": "code",
   "execution_count": null,
   "metadata": {},
   "outputs": [],
   "source": []
  },
  {
   "cell_type": "code",
   "execution_count": null,
   "metadata": {},
   "outputs": [],
   "source": [
    "xx = [0, 1, 2, 3, 4]\n",
    "\n",
    "xx.remove(3)"
   ]
  },
  {
   "cell_type": "code",
   "execution_count": null,
   "metadata": {},
   "outputs": [],
   "source": [
    "xx.remove(1)"
   ]
  },
  {
   "cell_type": "code",
   "execution_count": null,
   "metadata": {},
   "outputs": [],
   "source": [
    "xx"
   ]
  },
  {
   "cell_type": "code",
   "execution_count": null,
   "metadata": {},
   "outputs": [],
   "source": []
  }
 ],
 "metadata": {
  "kernelspec": {
   "display_name": "Python 3",
   "language": "python",
   "name": "python3"
  },
  "language_info": {
   "codemirror_mode": {
    "name": "ipython",
    "version": 3
   },
   "file_extension": ".py",
   "mimetype": "text/x-python",
   "name": "python",
   "nbconvert_exporter": "python",
   "pygments_lexer": "ipython3",
   "version": "3.7.7"
  }
 },
 "nbformat": 4,
 "nbformat_minor": 5
}
