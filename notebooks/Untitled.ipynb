{
 "cells": [
  {
   "cell_type": "code",
   "execution_count": null,
   "id": "aggressive-airport",
   "metadata": {},
   "outputs": [],
   "source": [
    "import os\n",
    "import numpy as np\n",
    "import pandas as pd\n",
    "from PIL import Image\n",
    "import torch\n",
    "import torch.nn as nn\n",
    "from nnAudio.Spectrogram import CQT1992v2\n",
    "from torch.utils.data import DataLoader, Dataset\n",
    "import timm\n",
    "import albumentations as A\n",
    "from albumentations.pytorch import ToTensorV2\n",
    "from pathlib import Path\n",
    "from sklearn.model_selection import StratifiedKFold\n",
    "from sklearn import metrics\n",
    "from torch.optim.lr_scheduler import ReduceLROnPlateau\n",
    "from tqdm import tqdm\n",
    "import matplotlib.pyplot as plt"
   ]
  },
  {
   "cell_type": "code",
   "execution_count": null,
   "id": "multiple-champion",
   "metadata": {},
   "outputs": [],
   "source": [
    "df = pd.read_csv(INPUT_PATH / \"training_labels.csv\")\n",
    "\n",
    "files = list((INPUT_PATH / \"train\").rglob(\"*.npy\"))\n",
    "FILE_PATH_DICT = {x.stem: str(x) for x in files}\n",
    "df[\"path\"] = df[\"id\"].apply(lambda x: FILE_PATH_DICT[x])"
   ]
  },
  {
   "cell_type": "code",
   "execution_count": null,
   "id": "isolated-notion",
   "metadata": {},
   "outputs": [],
   "source": [
    "PARAMS = {\n",
    "    \"sr\": 2048,\n",
    "    \"fmin\": 30,\n",
    "    \"fmax\": 400,\n",
    "    \"hop_length\": 64,  # count of signal points used for 1 tranformed point\n",
    "#     \"bins_per_octave\": 32,  # y-axe of transformed image depends from this parameter, for example [91,] if bins=16 and 42 if bins=8\n",
    "}\n",
    "INPUT_PATH = Path(\"/home/trytolose/rinat/kaggle/grav_waves_detection/input\")"
   ]
  },
  {
   "cell_type": "code",
   "execution_count": null,
   "id": "faced-proposal",
   "metadata": {},
   "outputs": [],
   "source": [
    "cqt = CQT1992v2(**PARAMS) \n",
    "\n",
    "def apply_qtransform(waves):\n",
    "#     waves = np.hstack(waves)\n",
    "    waves = waves / np.max(waves)\n",
    "    waves = torch.from_numpy(waves).float()\n",
    "\n",
    "    image = cqt(waves).squeeze().numpy()\n",
    "    return image\n"
   ]
  },
  {
   "cell_type": "code",
   "execution_count": null,
   "id": "helpful-accident",
   "metadata": {},
   "outputs": [],
   "source": [
    "df.head()"
   ]
  },
  {
   "cell_type": "code",
   "execution_count": null,
   "id": "standing-attack",
   "metadata": {},
   "outputs": [],
   "source": [
    "for _, row in df[df['target']==1].sample(10, replace=False).iterrows():\n",
    "    wave = np.load(row[\"path\"])\n",
    "    xx = apply_qtransform(wave)\n",
    "    print(xx.shape)\n",
    "    plt.figure(figsize=(20,20))\n",
    "    plt.imshow(xx[2])\n",
    "    plt.title(row['target'])\n",
    "    plt.show()\n",
    "    break"
   ]
  },
  {
   "cell_type": "code",
   "execution_count": null,
   "id": "vertical-species",
   "metadata": {},
   "outputs": [],
   "source": [
    "from typing import List"
   ]
  },
  {
   "cell_type": "code",
   "execution_count": null,
   "id": "julian-administration",
   "metadata": {},
   "outputs": [],
   "source": [
    "def longestSubarray(nums: List[int]) -> int:\n",
    "    ones_count_best = 0\n",
    "    curr = 0\n",
    "    for i in range(len(nums)):\n",
    "        if nums[i] == 1:\n",
    "            curr += 1\n",
    "        elif nums[i] == 0 and nums[i+1] == 1:\n",
    "            curr += 1\n",
    "        else:\n",
    "            \n",
    "            if curr > ones_count_best:\n",
    "                ones_count_best = curr\n",
    "            curr = 0\n",
    "        if i == len(nums)-1:\n",
    "            if curr > ones_count_best:\n",
    "                ones_count_best = curr\n",
    "            \n",
    "        print(curr)\n",
    "    return ones_count_best"
   ]
  },
  {
   "cell_type": "code",
   "execution_count": null,
   "id": "designing-rating",
   "metadata": {},
   "outputs": [],
   "source": [
    "longestSubarray([1,1,0,1])"
   ]
  },
  {
   "cell_type": "code",
   "execution_count": null,
   "id": "massive-removal",
   "metadata": {},
   "outputs": [],
   "source": []
  }
 ],
 "metadata": {
  "kernelspec": {
   "display_name": "Python 3",
   "language": "python",
   "name": "python3"
  },
  "language_info": {
   "codemirror_mode": {
    "name": "ipython",
    "version": 3
   },
   "file_extension": ".py",
   "mimetype": "text/x-python",
   "name": "python",
   "nbconvert_exporter": "python",
   "pygments_lexer": "ipython3",
   "version": "3.8.5"
  }
 },
 "nbformat": 4,
 "nbformat_minor": 5
}
